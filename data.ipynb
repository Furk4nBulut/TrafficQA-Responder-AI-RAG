{
 "cells": [
  {
   "metadata": {
    "ExecuteTime": {
     "end_time": "2024-08-13T15:25:28.227148Z",
     "start_time": "2024-08-13T15:25:27.031048Z"
    }
   },
   "cell_type": "code",
   "source": [
    "# Importing the libraries\n",
    "import pandas as pd"
   ],
   "id": "6af780653eb2bad3",
   "outputs": [],
   "execution_count": 1
  },
  {
   "metadata": {
    "ExecuteTime": {
     "end_time": "2024-08-13T15:25:39.965981Z",
     "start_time": "2024-08-13T15:25:29.202376Z"
    }
   },
   "cell_type": "code",
   "source": [
    "data_1st_night_time = pd.read_csv('data/1st night time.csv')\n",
    "data_midnight = pd.read_csv('data/midnight.csv')\n",
    "data_saturday_aft_1 = pd.read_csv('data/saturday aft 1.csv')\n",
    "\n",
    "\n",
    "data = pd.concat([data_1st_night_time, data_midnight, data_saturday_aft_1], ignore_index=True)\n",
    "data.to_csv('data/data.csv', index=False)"
   ],
   "id": "8e7fe9477876bbba",
   "outputs": [],
   "execution_count": 2
  },
  {
   "metadata": {
    "ExecuteTime": {
     "end_time": "2024-08-13T15:25:41.925908Z",
     "start_time": "2024-08-13T15:25:41.909938Z"
    }
   },
   "cell_type": "code",
   "source": "data.head()",
   "id": "2c3e4ab7e9464e73",
   "outputs": [
    {
     "data": {
      "text/plain": [
       "   No.      Time          Source     Destination Protocol  Length  \\\n",
       "0    1  0.000000  103.12.198.162      39.62.1.38      UDP    1274   \n",
       "1    2 -0.005975      39.62.1.38  142.250.181.54      TCP      78   \n",
       "2    3 -0.005898      39.62.1.38  103.12.198.146      TCP      66   \n",
       "3    4 -0.005898      39.62.1.38  103.12.198.146      TCP      66   \n",
       "4    5 -0.005889      39.62.1.38  103.12.198.146      TCP      66   \n",
       "\n",
       "                                                Info  \n",
       "0                             443  >  45841 Len=1232  \n",
       "1  2655  >  443 [ACK] Seq=1 Ack=1 Win=3708 Len=0 ...  \n",
       "2  44538  >  443 [ACK] Seq=1 Ack=1 Win=1736 Len=0...  \n",
       "3  44540  >  443 [ACK] Seq=1 Ack=1 Win=1734 Len=0...  \n",
       "4  44540  >  443 [ACK] Seq=1 Ack=2761 Win=1736 Le...  "
      ],
      "text/html": [
       "<div>\n",
       "<style scoped>\n",
       "    .dataframe tbody tr th:only-of-type {\n",
       "        vertical-align: middle;\n",
       "    }\n",
       "\n",
       "    .dataframe tbody tr th {\n",
       "        vertical-align: top;\n",
       "    }\n",
       "\n",
       "    .dataframe thead th {\n",
       "        text-align: right;\n",
       "    }\n",
       "</style>\n",
       "<table border=\"1\" class=\"dataframe\">\n",
       "  <thead>\n",
       "    <tr style=\"text-align: right;\">\n",
       "      <th></th>\n",
       "      <th>No.</th>\n",
       "      <th>Time</th>\n",
       "      <th>Source</th>\n",
       "      <th>Destination</th>\n",
       "      <th>Protocol</th>\n",
       "      <th>Length</th>\n",
       "      <th>Info</th>\n",
       "    </tr>\n",
       "  </thead>\n",
       "  <tbody>\n",
       "    <tr>\n",
       "      <th>0</th>\n",
       "      <td>1</td>\n",
       "      <td>0.000000</td>\n",
       "      <td>103.12.198.162</td>\n",
       "      <td>39.62.1.38</td>\n",
       "      <td>UDP</td>\n",
       "      <td>1274</td>\n",
       "      <td>443  &gt;  45841 Len=1232</td>\n",
       "    </tr>\n",
       "    <tr>\n",
       "      <th>1</th>\n",
       "      <td>2</td>\n",
       "      <td>-0.005975</td>\n",
       "      <td>39.62.1.38</td>\n",
       "      <td>142.250.181.54</td>\n",
       "      <td>TCP</td>\n",
       "      <td>78</td>\n",
       "      <td>2655  &gt;  443 [ACK] Seq=1 Ack=1 Win=3708 Len=0 ...</td>\n",
       "    </tr>\n",
       "    <tr>\n",
       "      <th>2</th>\n",
       "      <td>3</td>\n",
       "      <td>-0.005898</td>\n",
       "      <td>39.62.1.38</td>\n",
       "      <td>103.12.198.146</td>\n",
       "      <td>TCP</td>\n",
       "      <td>66</td>\n",
       "      <td>44538  &gt;  443 [ACK] Seq=1 Ack=1 Win=1736 Len=0...</td>\n",
       "    </tr>\n",
       "    <tr>\n",
       "      <th>3</th>\n",
       "      <td>4</td>\n",
       "      <td>-0.005898</td>\n",
       "      <td>39.62.1.38</td>\n",
       "      <td>103.12.198.146</td>\n",
       "      <td>TCP</td>\n",
       "      <td>66</td>\n",
       "      <td>44540  &gt;  443 [ACK] Seq=1 Ack=1 Win=1734 Len=0...</td>\n",
       "    </tr>\n",
       "    <tr>\n",
       "      <th>4</th>\n",
       "      <td>5</td>\n",
       "      <td>-0.005889</td>\n",
       "      <td>39.62.1.38</td>\n",
       "      <td>103.12.198.146</td>\n",
       "      <td>TCP</td>\n",
       "      <td>66</td>\n",
       "      <td>44540  &gt;  443 [ACK] Seq=1 Ack=2761 Win=1736 Le...</td>\n",
       "    </tr>\n",
       "  </tbody>\n",
       "</table>\n",
       "</div>"
      ]
     },
     "execution_count": 3,
     "metadata": {},
     "output_type": "execute_result"
    }
   ],
   "execution_count": 3
  },
  {
   "metadata": {
    "ExecuteTime": {
     "end_time": "2024-08-13T15:25:43.001559Z",
     "start_time": "2024-08-13T15:25:42.796928Z"
    }
   },
   "cell_type": "code",
   "source": "data.describe()",
   "id": "8123e3f869d39b9d",
   "outputs": [
    {
     "data": {
      "text/plain": [
       "                No.          Time        Length\n",
       "count  2.327257e+06  2.327257e+06  2.327257e+06\n",
       "mean   5.375444e+05  4.174914e+01  8.861782e+02\n",
       "std    3.314515e+05  2.477640e+01  7.713895e+02\n",
       "min    1.000000e+00 -5.975000e-03  2.400000e+01\n",
       "25%    2.437680e+05  2.059823e+01  8.200000e+01\n",
       "50%    5.346750e+05  3.997793e+01  1.282000e+03\n",
       "75%    8.255820e+05  6.407431e+01  1.462000e+03\n",
       "max    1.119795e+06  8.639050e+01  2.123800e+04"
      ],
      "text/html": [
       "<div>\n",
       "<style scoped>\n",
       "    .dataframe tbody tr th:only-of-type {\n",
       "        vertical-align: middle;\n",
       "    }\n",
       "\n",
       "    .dataframe tbody tr th {\n",
       "        vertical-align: top;\n",
       "    }\n",
       "\n",
       "    .dataframe thead th {\n",
       "        text-align: right;\n",
       "    }\n",
       "</style>\n",
       "<table border=\"1\" class=\"dataframe\">\n",
       "  <thead>\n",
       "    <tr style=\"text-align: right;\">\n",
       "      <th></th>\n",
       "      <th>No.</th>\n",
       "      <th>Time</th>\n",
       "      <th>Length</th>\n",
       "    </tr>\n",
       "  </thead>\n",
       "  <tbody>\n",
       "    <tr>\n",
       "      <th>count</th>\n",
       "      <td>2.327257e+06</td>\n",
       "      <td>2.327257e+06</td>\n",
       "      <td>2.327257e+06</td>\n",
       "    </tr>\n",
       "    <tr>\n",
       "      <th>mean</th>\n",
       "      <td>5.375444e+05</td>\n",
       "      <td>4.174914e+01</td>\n",
       "      <td>8.861782e+02</td>\n",
       "    </tr>\n",
       "    <tr>\n",
       "      <th>std</th>\n",
       "      <td>3.314515e+05</td>\n",
       "      <td>2.477640e+01</td>\n",
       "      <td>7.713895e+02</td>\n",
       "    </tr>\n",
       "    <tr>\n",
       "      <th>min</th>\n",
       "      <td>1.000000e+00</td>\n",
       "      <td>-5.975000e-03</td>\n",
       "      <td>2.400000e+01</td>\n",
       "    </tr>\n",
       "    <tr>\n",
       "      <th>25%</th>\n",
       "      <td>2.437680e+05</td>\n",
       "      <td>2.059823e+01</td>\n",
       "      <td>8.200000e+01</td>\n",
       "    </tr>\n",
       "    <tr>\n",
       "      <th>50%</th>\n",
       "      <td>5.346750e+05</td>\n",
       "      <td>3.997793e+01</td>\n",
       "      <td>1.282000e+03</td>\n",
       "    </tr>\n",
       "    <tr>\n",
       "      <th>75%</th>\n",
       "      <td>8.255820e+05</td>\n",
       "      <td>6.407431e+01</td>\n",
       "      <td>1.462000e+03</td>\n",
       "    </tr>\n",
       "    <tr>\n",
       "      <th>max</th>\n",
       "      <td>1.119795e+06</td>\n",
       "      <td>8.639050e+01</td>\n",
       "      <td>2.123800e+04</td>\n",
       "    </tr>\n",
       "  </tbody>\n",
       "</table>\n",
       "</div>"
      ]
     },
     "execution_count": 4,
     "metadata": {},
     "output_type": "execute_result"
    }
   ],
   "execution_count": 4
  },
  {
   "metadata": {
    "ExecuteTime": {
     "end_time": "2024-08-13T15:25:44.112468Z",
     "start_time": "2024-08-13T15:25:44.098881Z"
    }
   },
   "cell_type": "code",
   "source": "data.info()",
   "id": "99fc69d0f618afa0",
   "outputs": [
    {
     "name": "stdout",
     "output_type": "stream",
     "text": [
      "<class 'pandas.core.frame.DataFrame'>\n",
      "RangeIndex: 2327257 entries, 0 to 2327256\n",
      "Data columns (total 7 columns):\n",
      " #   Column       Dtype  \n",
      "---  ------       -----  \n",
      " 0   No.          int64  \n",
      " 1   Time         float64\n",
      " 2   Source       object \n",
      " 3   Destination  object \n",
      " 4   Protocol     object \n",
      " 5   Length       int64  \n",
      " 6   Info         object \n",
      "dtypes: float64(1), int64(2), object(4)\n",
      "memory usage: 124.3+ MB\n"
     ]
    }
   ],
   "execution_count": 5
  },
  {
   "metadata": {
    "ExecuteTime": {
     "end_time": "2024-08-13T15:25:45.439400Z",
     "start_time": "2024-08-13T15:25:44.876592Z"
    }
   },
   "cell_type": "code",
   "source": [
    "# 1. Eksik Değerlerin İncelenmesi ve Temizlenmesi\n",
    "print(\"Eksik değerler:\")\n",
    "print(data.isnull().sum())\n",
    "\n",
    "# Eksik veriler varsa bunları doldurabiliriz (örneğin, forward fill yöntemiyle) veya tamamen çıkarabiliriz.\n",
    "data.dropna(inplace=True)"
   ],
   "id": "9f6449dea327fe22",
   "outputs": [
    {
     "name": "stdout",
     "output_type": "stream",
     "text": [
      "Eksik değerler:\n",
      "No.               0\n",
      "Time              0\n",
      "Source            0\n",
      "Destination       0\n",
      "Protocol          0\n",
      "Length            0\n",
      "Info           2247\n",
      "dtype: int64\n"
     ]
    }
   ],
   "execution_count": 6
  },
  {
   "metadata": {
    "ExecuteTime": {
     "end_time": "2024-08-13T15:25:45.981692Z",
     "start_time": "2024-08-13T15:25:45.952306Z"
    }
   },
   "cell_type": "code",
   "source": [
    ";# 2. Zaman Formatının Düzeltilmesi\n",
    "# Zaman sütununun negatif değerlerini düzeltmek\n",
    "data['Time'] = data['Time'].abs()"
   ],
   "id": "1686e007f95b0b1a",
   "outputs": [],
   "execution_count": 7
  },
  {
   "metadata": {
    "ExecuteTime": {
     "end_time": "2024-08-13T15:25:46.904057Z",
     "start_time": "2024-08-13T15:25:46.806907Z"
    }
   },
   "cell_type": "code",
   "source": [
    "# 3. Gereksiz Sütunların Çıkarılması\n",
    "# No. sütunu analize katkı sağlamadığı için çıkarılabilir\n",
    "data.drop(columns=['No.'], inplace=True)"
   ],
   "id": "ad4517b0a2bf1598",
   "outputs": [],
   "execution_count": 8
  },
  {
   "metadata": {
    "ExecuteTime": {
     "end_time": "2024-08-13T15:25:54.938727Z",
     "start_time": "2024-08-13T15:25:47.740545Z"
    }
   },
   "cell_type": "code",
   "source": [
    "# 4. Geçerli IP Adreslerini Kontrol Etmek\n",
    "def is_valid_ip(ip):\n",
    "    parts = ip.split('.')\n",
    "    return len(parts) == 4 and all(p.isdigit() and 0 <= int(p) <= 255 for p in parts)\n",
    "\n",
    "data = data[data['Source'].apply(is_valid_ip) & data['Destination'].apply(is_valid_ip)]"
   ],
   "id": "c8d679e1c300c7f2",
   "outputs": [],
   "execution_count": 9
  },
  {
   "metadata": {
    "ExecuteTime": {
     "end_time": "2024-08-13T15:26:08.705189Z",
     "start_time": "2024-08-13T15:25:55.496943Z"
    }
   },
   "cell_type": "code",
   "source": [
    "# 5. Verilerin Vektörleştirilmesi\n",
    "data['Source_IP1'], data['Source_IP2'], data['Source_IP3'], data['Source_IP4'] = zip(*data['Source'].apply(lambda x: x.split('.')))\n",
    "data['Destination_IP1'], data['Destination_IP2'], data['Destination_IP3'], data['Destination_IP4'] = zip(*data['Destination'].apply(lambda x: x.split('.')))\n"
   ],
   "id": "9ae45aef752bceb",
   "outputs": [],
   "execution_count": 10
  },
  {
   "metadata": {
    "ExecuteTime": {
     "end_time": "2024-08-13T15:26:25.066424Z",
     "start_time": "2024-08-13T15:26:10.167034Z"
    }
   },
   "cell_type": "code",
   "source": [
    "from sklearn.preprocessing import MinMaxScaler, OneHotEncoder\n",
    "import numpy as np\n",
    "\n",
    "# Protokol sütunu için one-hot encoding\n",
    "encoder = OneHotEncoder(sparse_output=False)  # 'sparse' yerine 'sparse_output' kullanın\n",
    "protocol_encoded = encoder.fit_transform(data[['Protocol']])\n",
    "\n",
    "# IP adreslerini sayısal değerlere dönüştürme\n",
    "data['Source_IP'] = data['Source_IP1'].astype(int) * 256**3 + data['Source_IP2'].astype(int) * 256**2 + data['Source_IP3'].astype(int) * 256 + data['Source_IP4'].astype(int)\n",
    "data['Destination_IP'] = data['Destination_IP1'].astype(int) * 256**3 + data['Destination_IP2'].astype(int) * 256**2 + data['Destination_IP3'].astype(int) * 256 + data['Destination_IP4'].astype(int)\n",
    "\n",
    "# Sonuçta protokol ve IP adresi verilerini birleştirme\n",
    "final_vectors = np.hstack([data[['Source_IP', 'Destination_IP']].values, protocol_encoded])\n",
    "\n",
    "# Veriyi normalleştirme\n",
    "scaler = MinMaxScaler()\n",
    "data[['Time', 'Length']] = scaler.fit_transform(data[['Time', 'Length']])\n",
    "\n",
    "# İşlenmiş veriyi kaydetme\n",
    "data.to_csv('data/processed_data.csv', index=False)"
   ],
   "id": "f8eef334be243ed4",
   "outputs": [],
   "execution_count": 11
  },
  {
   "metadata": {},
   "cell_type": "markdown",
   "source": "Makine Öğrenmesi Modeli Oluşturma",
   "id": "97c6dbffb8633b52"
  },
  {
   "metadata": {
    "ExecuteTime": {
     "end_time": "2024-08-13T15:26:26.946690Z",
     "start_time": "2024-08-13T15:26:26.637266Z"
    }
   },
   "cell_type": "code",
   "source": [
    "import faiss\n",
    "\n",
    "# Vektörlerinizi oluşturun\n",
    "vectors = np.array(final_vectors, dtype='float32')\n",
    "\n",
    "# FAISS index oluşturun\n",
    "index = faiss.IndexFlatL2(vectors.shape[1])\n",
    "index.add(vectors)\n"
   ],
   "id": "41a90a9ac057a93a",
   "outputs": [
    {
     "ename": "ImportError",
     "evalue": "DLL load failed while importing _swigfaiss: Belirtilen modül bulunamadı.",
     "output_type": "error",
     "traceback": [
      "\u001B[1;31m---------------------------------------------------------------------------\u001B[0m",
      "\u001B[1;31mImportError\u001B[0m                               Traceback (most recent call last)",
      "\u001B[1;32m~\\AppData\\Local\\Temp\\ipykernel_14860\\1640513997.py\u001B[0m in \u001B[0;36m?\u001B[1;34m()\u001B[0m\n\u001B[1;32m----> 1\u001B[1;33m \u001B[1;32mimport\u001B[0m \u001B[0mfaiss\u001B[0m\u001B[1;33m\u001B[0m\u001B[1;33m\u001B[0m\u001B[0m\n\u001B[0m\u001B[0;32m      2\u001B[0m \u001B[1;33m\u001B[0m\u001B[0m\n\u001B[0;32m      3\u001B[0m \u001B[1;31m# Vektörlerinizi oluşturun\u001B[0m\u001B[1;33m\u001B[0m\u001B[1;33m\u001B[0m\u001B[0m\n\u001B[0;32m      4\u001B[0m \u001B[0mvectors\u001B[0m \u001B[1;33m=\u001B[0m \u001B[0mnp\u001B[0m\u001B[1;33m.\u001B[0m\u001B[0marray\u001B[0m\u001B[1;33m(\u001B[0m\u001B[0mfinal_vectors\u001B[0m\u001B[1;33m,\u001B[0m \u001B[0mdtype\u001B[0m\u001B[1;33m=\u001B[0m\u001B[1;34m'float32'\u001B[0m\u001B[1;33m)\u001B[0m\u001B[1;33m\u001B[0m\u001B[1;33m\u001B[0m\u001B[0m\n",
      "\u001B[1;32m~\\.conda\\envs\\NLP\\lib\\site-packages\\faiss\\__init__.py\u001B[0m in \u001B[0;36m?\u001B[1;34m()\u001B[0m\n\u001B[0;32m     12\u001B[0m \u001B[1;32mimport\u001B[0m \u001B[0msys\u001B[0m\u001B[1;33m\u001B[0m\u001B[1;33m\u001B[0m\u001B[0m\n\u001B[0;32m     13\u001B[0m \u001B[1;32mimport\u001B[0m \u001B[0minspect\u001B[0m\u001B[1;33m\u001B[0m\u001B[1;33m\u001B[0m\u001B[0m\n\u001B[0;32m     14\u001B[0m \u001B[1;33m\u001B[0m\u001B[0m\n\u001B[0;32m     15\u001B[0m \u001B[1;31m# We import * so that the symbol foo can be accessed as faiss.foo.\u001B[0m\u001B[1;33m\u001B[0m\u001B[1;33m\u001B[0m\u001B[0m\n\u001B[1;32m---> 16\u001B[1;33m \u001B[1;32mfrom\u001B[0m \u001B[1;33m.\u001B[0m\u001B[0mloader\u001B[0m \u001B[1;32mimport\u001B[0m \u001B[1;33m*\u001B[0m\u001B[1;33m\u001B[0m\u001B[1;33m\u001B[0m\u001B[0m\n\u001B[0m\u001B[0;32m     17\u001B[0m \u001B[1;33m\u001B[0m\u001B[0m\n\u001B[0;32m     18\u001B[0m \u001B[1;31m# additional wrappers\u001B[0m\u001B[1;33m\u001B[0m\u001B[1;33m\u001B[0m\u001B[0m\n\u001B[0;32m     19\u001B[0m \u001B[1;32mfrom\u001B[0m \u001B[0mfaiss\u001B[0m \u001B[1;32mimport\u001B[0m \u001B[0mclass_wrappers\u001B[0m\u001B[1;33m\u001B[0m\u001B[1;33m\u001B[0m\u001B[0m\n",
      "\u001B[1;32m~\\.conda\\envs\\NLP\\lib\\site-packages\\faiss\\loader.py\u001B[0m in \u001B[0;36m?\u001B[1;34m()\u001B[0m\n\u001B[0;32m     94\u001B[0m \u001B[1;33m\u001B[0m\u001B[0m\n\u001B[0;32m     95\u001B[0m \u001B[1;32mif\u001B[0m \u001B[1;32mnot\u001B[0m \u001B[0mloaded\u001B[0m\u001B[1;33m:\u001B[0m\u001B[1;33m\u001B[0m\u001B[1;33m\u001B[0m\u001B[0m\n\u001B[0;32m     96\u001B[0m     \u001B[1;31m# we import * so that the symbol X can be accessed as faiss.X\u001B[0m\u001B[1;33m\u001B[0m\u001B[1;33m\u001B[0m\u001B[0m\n\u001B[0;32m     97\u001B[0m     \u001B[0mlogger\u001B[0m\u001B[1;33m.\u001B[0m\u001B[0minfo\u001B[0m\u001B[1;33m(\u001B[0m\u001B[1;34m\"Loading faiss.\"\u001B[0m\u001B[1;33m)\u001B[0m\u001B[1;33m\u001B[0m\u001B[1;33m\u001B[0m\u001B[0m\n\u001B[1;32m---> 98\u001B[1;33m     \u001B[1;32mfrom\u001B[0m \u001B[1;33m.\u001B[0m\u001B[0mswigfaiss\u001B[0m \u001B[1;32mimport\u001B[0m \u001B[1;33m*\u001B[0m\u001B[1;33m\u001B[0m\u001B[1;33m\u001B[0m\u001B[0m\n\u001B[0m\u001B[0;32m     99\u001B[0m     \u001B[0mlogger\u001B[0m\u001B[1;33m.\u001B[0m\u001B[0minfo\u001B[0m\u001B[1;33m(\u001B[0m\u001B[1;34m\"Successfully loaded faiss.\"\u001B[0m\u001B[1;33m)\u001B[0m\u001B[1;33m\u001B[0m\u001B[1;33m\u001B[0m\u001B[0m\n",
      "\u001B[1;32m~\\.conda\\envs\\NLP\\lib\\site-packages\\faiss\\swigfaiss.py\u001B[0m in \u001B[0;36m?\u001B[1;34m()\u001B[0m\n\u001B[0;32m      9\u001B[0m     \u001B[1;32mraise\u001B[0m \u001B[0mRuntimeError\u001B[0m\u001B[1;33m(\u001B[0m\u001B[1;34m\"Python 2.7 or later required\"\u001B[0m\u001B[1;33m)\u001B[0m\u001B[1;33m\u001B[0m\u001B[1;33m\u001B[0m\u001B[0m\n\u001B[0;32m     10\u001B[0m \u001B[1;33m\u001B[0m\u001B[0m\n\u001B[0;32m     11\u001B[0m \u001B[1;31m# Import the low-level C/C++ module\u001B[0m\u001B[1;33m\u001B[0m\u001B[1;33m\u001B[0m\u001B[0m\n\u001B[0;32m     12\u001B[0m \u001B[1;32mif\u001B[0m \u001B[0m__package__\u001B[0m \u001B[1;32mor\u001B[0m \u001B[1;34m\".\"\u001B[0m \u001B[1;32min\u001B[0m \u001B[0m__name__\u001B[0m\u001B[1;33m:\u001B[0m\u001B[1;33m\u001B[0m\u001B[1;33m\u001B[0m\u001B[0m\n\u001B[1;32m---> 13\u001B[1;33m     \u001B[1;32mfrom\u001B[0m \u001B[1;33m.\u001B[0m \u001B[1;32mimport\u001B[0m \u001B[0m_swigfaiss\u001B[0m\u001B[1;33m\u001B[0m\u001B[1;33m\u001B[0m\u001B[0m\n\u001B[0m\u001B[0;32m     14\u001B[0m \u001B[1;32melse\u001B[0m\u001B[1;33m:\u001B[0m\u001B[1;33m\u001B[0m\u001B[1;33m\u001B[0m\u001B[0m\n\u001B[0;32m     15\u001B[0m     \u001B[1;32mimport\u001B[0m \u001B[0m_swigfaiss\u001B[0m\u001B[1;33m\u001B[0m\u001B[1;33m\u001B[0m\u001B[0m\n\u001B[0;32m     16\u001B[0m \u001B[1;33m\u001B[0m\u001B[0m\n",
      "\u001B[1;31mImportError\u001B[0m: DLL load failed while importing _swigfaiss: Belirtilen modül bulunamadı."
     ]
    }
   ],
   "execution_count": 12
  },
  {
   "metadata": {
    "ExecuteTime": {
     "end_time": "2024-08-13T15:24:40.314215Z",
     "start_time": "2024-08-13T15:24:39.457976Z"
    }
   },
   "cell_type": "code",
   "source": [
    "\n",
    "from transformers import GPT2LMHeadModel, GPT2Tokenizer\n",
    "\n",
    "# Modeli ve tokenizer'ı yükle\n",
    "model = GPT2LMHeadModel.from_pretrained('gpt2')\n",
    "tokenizer = GPT2Tokenizer.from_pretrained('gpt2')\n"
   ],
   "id": "ac5da3cc3124e178",
   "outputs": [
    {
     "ename": "ImportError",
     "evalue": "DLL load failed while importing _C: Belirtilen modül bulunamadı.",
     "output_type": "error",
     "traceback": [
      "\u001B[1;31m---------------------------------------------------------------------------\u001B[0m",
      "\u001B[1;31mImportError\u001B[0m                               Traceback (most recent call last)",
      "Cell \u001B[1;32mIn[15], line 1\u001B[0m\n\u001B[1;32m----> 1\u001B[0m \u001B[38;5;28;01mfrom\u001B[39;00m \u001B[38;5;21;01mtransformers\u001B[39;00m \u001B[38;5;28;01mimport\u001B[39;00m GPT2LMHeadModel, GPT2Tokenizer\n\u001B[0;32m      3\u001B[0m \u001B[38;5;66;03m# Modeli ve tokenizer'ı yükle\u001B[39;00m\n\u001B[0;32m      4\u001B[0m model \u001B[38;5;241m=\u001B[39m GPT2LMHeadModel\u001B[38;5;241m.\u001B[39mfrom_pretrained(\u001B[38;5;124m'\u001B[39m\u001B[38;5;124mgpt2\u001B[39m\u001B[38;5;124m'\u001B[39m)\n",
      "File \u001B[1;32m~\\.conda\\envs\\NLP\\lib\\site-packages\\transformers\\__init__.py:26\u001B[0m\n\u001B[0;32m     23\u001B[0m \u001B[38;5;28;01mfrom\u001B[39;00m \u001B[38;5;21;01mtyping\u001B[39;00m \u001B[38;5;28;01mimport\u001B[39;00m TYPE_CHECKING\n\u001B[0;32m     25\u001B[0m \u001B[38;5;66;03m# Check the dependencies satisfy the minimal versions required.\u001B[39;00m\n\u001B[1;32m---> 26\u001B[0m \u001B[38;5;28;01mfrom\u001B[39;00m \u001B[38;5;21;01m.\u001B[39;00m \u001B[38;5;28;01mimport\u001B[39;00m dependency_versions_check\n\u001B[0;32m     27\u001B[0m \u001B[38;5;28;01mfrom\u001B[39;00m \u001B[38;5;21;01m.\u001B[39;00m\u001B[38;5;21;01mutils\u001B[39;00m \u001B[38;5;28;01mimport\u001B[39;00m (\n\u001B[0;32m     28\u001B[0m     OptionalDependencyNotAvailable,\n\u001B[0;32m     29\u001B[0m     _LazyModule,\n\u001B[1;32m   (...)\u001B[0m\n\u001B[0;32m     48\u001B[0m     logging,\n\u001B[0;32m     49\u001B[0m )\n\u001B[0;32m     52\u001B[0m logger \u001B[38;5;241m=\u001B[39m logging\u001B[38;5;241m.\u001B[39mget_logger(\u001B[38;5;18m__name__\u001B[39m)  \u001B[38;5;66;03m# pylint: disable=invalid-name\u001B[39;00m\n",
      "File \u001B[1;32m~\\.conda\\envs\\NLP\\lib\\site-packages\\transformers\\dependency_versions_check.py:16\u001B[0m\n\u001B[0;32m      1\u001B[0m \u001B[38;5;66;03m# Copyright 2020 The HuggingFace Team. All rights reserved.\u001B[39;00m\n\u001B[0;32m      2\u001B[0m \u001B[38;5;66;03m#\u001B[39;00m\n\u001B[0;32m      3\u001B[0m \u001B[38;5;66;03m# Licensed under the Apache License, Version 2.0 (the \"License\");\u001B[39;00m\n\u001B[1;32m   (...)\u001B[0m\n\u001B[0;32m     12\u001B[0m \u001B[38;5;66;03m# See the License for the specific language governing permissions and\u001B[39;00m\n\u001B[0;32m     13\u001B[0m \u001B[38;5;66;03m# limitations under the License.\u001B[39;00m\n\u001B[0;32m     15\u001B[0m \u001B[38;5;28;01mfrom\u001B[39;00m \u001B[38;5;21;01m.\u001B[39;00m\u001B[38;5;21;01mdependency_versions_table\u001B[39;00m \u001B[38;5;28;01mimport\u001B[39;00m deps\n\u001B[1;32m---> 16\u001B[0m \u001B[38;5;28;01mfrom\u001B[39;00m \u001B[38;5;21;01m.\u001B[39;00m\u001B[38;5;21;01mutils\u001B[39;00m\u001B[38;5;21;01m.\u001B[39;00m\u001B[38;5;21;01mversions\u001B[39;00m \u001B[38;5;28;01mimport\u001B[39;00m require_version, require_version_core\n\u001B[0;32m     19\u001B[0m \u001B[38;5;66;03m# define which module versions we always want to check at run time\u001B[39;00m\n\u001B[0;32m     20\u001B[0m \u001B[38;5;66;03m# (usually the ones defined in `install_requires` in setup.py)\u001B[39;00m\n\u001B[0;32m     21\u001B[0m \u001B[38;5;66;03m#\u001B[39;00m\n\u001B[0;32m     22\u001B[0m \u001B[38;5;66;03m# order specific notes:\u001B[39;00m\n\u001B[0;32m     23\u001B[0m \u001B[38;5;66;03m# - tqdm must be checked before tokenizers\u001B[39;00m\n\u001B[0;32m     25\u001B[0m pkgs_to_check_at_runtime \u001B[38;5;241m=\u001B[39m [\n\u001B[0;32m     26\u001B[0m     \u001B[38;5;124m\"\u001B[39m\u001B[38;5;124mpython\u001B[39m\u001B[38;5;124m\"\u001B[39m,\n\u001B[0;32m     27\u001B[0m     \u001B[38;5;124m\"\u001B[39m\u001B[38;5;124mtqdm\u001B[39m\u001B[38;5;124m\"\u001B[39m,\n\u001B[1;32m   (...)\u001B[0m\n\u001B[0;32m     37\u001B[0m     \u001B[38;5;124m\"\u001B[39m\u001B[38;5;124mpyyaml\u001B[39m\u001B[38;5;124m\"\u001B[39m,\n\u001B[0;32m     38\u001B[0m ]\n",
      "File \u001B[1;32m~\\.conda\\envs\\NLP\\lib\\site-packages\\transformers\\utils\\__init__.py:34\u001B[0m\n\u001B[0;32m     25\u001B[0m \u001B[38;5;28;01mfrom\u001B[39;00m \u001B[38;5;21;01m.\u001B[39;00m\u001B[38;5;21;01mconstants\u001B[39;00m \u001B[38;5;28;01mimport\u001B[39;00m IMAGENET_DEFAULT_MEAN, IMAGENET_DEFAULT_STD, IMAGENET_STANDARD_MEAN, IMAGENET_STANDARD_STD\n\u001B[0;32m     26\u001B[0m \u001B[38;5;28;01mfrom\u001B[39;00m \u001B[38;5;21;01m.\u001B[39;00m\u001B[38;5;21;01mdoc\u001B[39;00m \u001B[38;5;28;01mimport\u001B[39;00m (\n\u001B[0;32m     27\u001B[0m     add_code_sample_docstrings,\n\u001B[0;32m     28\u001B[0m     add_end_docstrings,\n\u001B[1;32m   (...)\u001B[0m\n\u001B[0;32m     32\u001B[0m     replace_return_docstrings,\n\u001B[0;32m     33\u001B[0m )\n\u001B[1;32m---> 34\u001B[0m \u001B[38;5;28;01mfrom\u001B[39;00m \u001B[38;5;21;01m.\u001B[39;00m\u001B[38;5;21;01mgeneric\u001B[39;00m \u001B[38;5;28;01mimport\u001B[39;00m (\n\u001B[0;32m     35\u001B[0m     ContextManagers,\n\u001B[0;32m     36\u001B[0m     ExplicitEnum,\n\u001B[0;32m     37\u001B[0m     ModelOutput,\n\u001B[0;32m     38\u001B[0m     PaddingStrategy,\n\u001B[0;32m     39\u001B[0m     TensorType,\n\u001B[0;32m     40\u001B[0m     add_model_info_to_auto_map,\n\u001B[0;32m     41\u001B[0m     add_model_info_to_custom_pipelines,\n\u001B[0;32m     42\u001B[0m     cached_property,\n\u001B[0;32m     43\u001B[0m     can_return_loss,\n\u001B[0;32m     44\u001B[0m     expand_dims,\n\u001B[0;32m     45\u001B[0m     filter_out_non_signature_kwargs,\n\u001B[0;32m     46\u001B[0m     find_labels,\n\u001B[0;32m     47\u001B[0m     flatten_dict,\n\u001B[0;32m     48\u001B[0m     infer_framework,\n\u001B[0;32m     49\u001B[0m     is_jax_tensor,\n\u001B[0;32m     50\u001B[0m     is_numpy_array,\n\u001B[0;32m     51\u001B[0m     is_tensor,\n\u001B[0;32m     52\u001B[0m     is_tf_symbolic_tensor,\n\u001B[0;32m     53\u001B[0m     is_tf_tensor,\n\u001B[0;32m     54\u001B[0m     is_torch_device,\n\u001B[0;32m     55\u001B[0m     is_torch_dtype,\n\u001B[0;32m     56\u001B[0m     is_torch_tensor,\n\u001B[0;32m     57\u001B[0m     reshape,\n\u001B[0;32m     58\u001B[0m     squeeze,\n\u001B[0;32m     59\u001B[0m     strtobool,\n\u001B[0;32m     60\u001B[0m     tensor_size,\n\u001B[0;32m     61\u001B[0m     to_numpy,\n\u001B[0;32m     62\u001B[0m     to_py_obj,\n\u001B[0;32m     63\u001B[0m     torch_float,\n\u001B[0;32m     64\u001B[0m     torch_int,\n\u001B[0;32m     65\u001B[0m     transpose,\n\u001B[0;32m     66\u001B[0m     working_or_temp_dir,\n\u001B[0;32m     67\u001B[0m )\n\u001B[0;32m     68\u001B[0m \u001B[38;5;28;01mfrom\u001B[39;00m \u001B[38;5;21;01m.\u001B[39;00m\u001B[38;5;21;01mhub\u001B[39;00m \u001B[38;5;28;01mimport\u001B[39;00m (\n\u001B[0;32m     69\u001B[0m     CLOUDFRONT_DISTRIB_PREFIX,\n\u001B[0;32m     70\u001B[0m     HF_MODULES_CACHE,\n\u001B[1;32m   (...)\u001B[0m\n\u001B[0;32m     96\u001B[0m     try_to_load_from_cache,\n\u001B[0;32m     97\u001B[0m )\n\u001B[0;32m     98\u001B[0m \u001B[38;5;28;01mfrom\u001B[39;00m \u001B[38;5;21;01m.\u001B[39;00m\u001B[38;5;21;01mimport_utils\u001B[39;00m \u001B[38;5;28;01mimport\u001B[39;00m (\n\u001B[0;32m     99\u001B[0m     ACCELERATE_MIN_VERSION,\n\u001B[0;32m    100\u001B[0m     ENV_VARS_TRUE_AND_AUTO_VALUES,\n\u001B[1;32m   (...)\u001B[0m\n\u001B[0;32m    219\u001B[0m     torch_only_method,\n\u001B[0;32m    220\u001B[0m )\n",
      "File \u001B[1;32m~\\.conda\\envs\\NLP\\lib\\site-packages\\transformers\\utils\\generic.py:462\u001B[0m\n\u001B[0;32m    458\u001B[0m         \u001B[38;5;28;01mreturn\u001B[39;00m \u001B[38;5;28mtuple\u001B[39m(\u001B[38;5;28mself\u001B[39m[k] \u001B[38;5;28;01mfor\u001B[39;00m k \u001B[38;5;129;01min\u001B[39;00m \u001B[38;5;28mself\u001B[39m\u001B[38;5;241m.\u001B[39mkeys())\n\u001B[0;32m    461\u001B[0m \u001B[38;5;28;01mif\u001B[39;00m is_torch_available():\n\u001B[1;32m--> 462\u001B[0m     \u001B[38;5;28;01mimport\u001B[39;00m \u001B[38;5;21;01mtorch\u001B[39;00m\u001B[38;5;21;01m.\u001B[39;00m\u001B[38;5;21;01mutils\u001B[39;00m\u001B[38;5;21;01m.\u001B[39;00m\u001B[38;5;21;01m_pytree\u001B[39;00m \u001B[38;5;28;01mas\u001B[39;00m \u001B[38;5;21;01m_torch_pytree\u001B[39;00m\n\u001B[0;32m    464\u001B[0m     \u001B[38;5;28;01mdef\u001B[39;00m \u001B[38;5;21m_model_output_flatten\u001B[39m(output: ModelOutput) \u001B[38;5;241m-\u001B[39m\u001B[38;5;241m>\u001B[39m Tuple[List[Any], \u001B[38;5;124m\"\u001B[39m\u001B[38;5;124m_torch_pytree.Context\u001B[39m\u001B[38;5;124m\"\u001B[39m]:\n\u001B[0;32m    465\u001B[0m         \u001B[38;5;28;01mreturn\u001B[39;00m \u001B[38;5;28mlist\u001B[39m(output\u001B[38;5;241m.\u001B[39mvalues()), \u001B[38;5;28mlist\u001B[39m(output\u001B[38;5;241m.\u001B[39mkeys())\n",
      "File \u001B[1;32m~\\.conda\\envs\\NLP\\lib\\site-packages\\torch\\utils\\__init__.py:5\u001B[0m\n\u001B[0;32m      2\u001B[0m \u001B[38;5;28;01mimport\u001B[39;00m \u001B[38;5;21;01mos\u001B[39;00m\u001B[38;5;21;01m.\u001B[39;00m\u001B[38;5;21;01mpath\u001B[39;00m \u001B[38;5;28;01mas\u001B[39;00m \u001B[38;5;21;01m_osp\u001B[39;00m\n\u001B[0;32m      3\u001B[0m \u001B[38;5;28;01mimport\u001B[39;00m \u001B[38;5;21;01mtorch\u001B[39;00m\n\u001B[1;32m----> 5\u001B[0m \u001B[38;5;28;01mfrom\u001B[39;00m \u001B[38;5;21;01m.\u001B[39;00m\u001B[38;5;21;01mthroughput_benchmark\u001B[39;00m \u001B[38;5;28;01mimport\u001B[39;00m ThroughputBenchmark\n\u001B[0;32m      6\u001B[0m \u001B[38;5;28;01mfrom\u001B[39;00m \u001B[38;5;21;01m.\u001B[39;00m\u001B[38;5;21;01mcpp_backtrace\u001B[39;00m \u001B[38;5;28;01mimport\u001B[39;00m get_cpp_backtrace\n\u001B[0;32m      7\u001B[0m \u001B[38;5;28;01mfrom\u001B[39;00m \u001B[38;5;21;01m.\u001B[39;00m\u001B[38;5;21;01mbackend_registration\u001B[39;00m \u001B[38;5;28;01mimport\u001B[39;00m rename_privateuse1_backend, generate_methods_for_privateuse1_backend\n",
      "File \u001B[1;32m~\\.conda\\envs\\NLP\\lib\\site-packages\\torch\\utils\\throughput_benchmark.py:3\u001B[0m\n\u001B[0;32m      1\u001B[0m \u001B[38;5;66;03m# mypy: allow-untyped-defs\u001B[39;00m\n\u001B[1;32m----> 3\u001B[0m \u001B[38;5;28;01mimport\u001B[39;00m \u001B[38;5;21;01mtorch\u001B[39;00m\u001B[38;5;21;01m.\u001B[39;00m\u001B[38;5;21;01m_C\u001B[39;00m\n\u001B[0;32m      6\u001B[0m \u001B[38;5;28;01mdef\u001B[39;00m \u001B[38;5;21mformat_time\u001B[39m(time_us\u001B[38;5;241m=\u001B[39m\u001B[38;5;28;01mNone\u001B[39;00m, time_ms\u001B[38;5;241m=\u001B[39m\u001B[38;5;28;01mNone\u001B[39;00m, time_s\u001B[38;5;241m=\u001B[39m\u001B[38;5;28;01mNone\u001B[39;00m):\n\u001B[0;32m      7\u001B[0m \u001B[38;5;250m    \u001B[39m\u001B[38;5;124;03m\"\"\"Define time formatting.\"\"\"\u001B[39;00m\n",
      "\u001B[1;31mImportError\u001B[0m: DLL load failed while importing _C: Belirtilen modül bulunamadı."
     ]
    }
   ],
   "execution_count": 15
  },
  {
   "metadata": {
    "ExecuteTime": {
     "end_time": "2024-08-13T15:24:41.179797Z",
     "start_time": "2024-08-13T15:24:41.147903Z"
    }
   },
   "cell_type": "code",
   "source": [
    "inputs = tokenizer.encode('Soru: [Kullanıcı sorgusu]', return_tensors='pt')\n",
    "outputs = model.generate(inputs, max_length=50, num_return_sequences=1)\n",
    "response = tokenizer.decode(outputs[0], skip_special_tokens=True)\n"
   ],
   "id": "3f6f7c952d75b8b0",
   "outputs": [
    {
     "ename": "NameError",
     "evalue": "name 'tokenizer' is not defined",
     "output_type": "error",
     "traceback": [
      "\u001B[1;31m---------------------------------------------------------------------------\u001B[0m",
      "\u001B[1;31mNameError\u001B[0m                                 Traceback (most recent call last)",
      "Cell \u001B[1;32mIn[16], line 1\u001B[0m\n\u001B[1;32m----> 1\u001B[0m inputs \u001B[38;5;241m=\u001B[39m \u001B[43mtokenizer\u001B[49m\u001B[38;5;241m.\u001B[39mencode(\u001B[38;5;124m'\u001B[39m\u001B[38;5;124mSoru: [Kullanıcı sorgusu]\u001B[39m\u001B[38;5;124m'\u001B[39m, return_tensors\u001B[38;5;241m=\u001B[39m\u001B[38;5;124m'\u001B[39m\u001B[38;5;124mpt\u001B[39m\u001B[38;5;124m'\u001B[39m)\n\u001B[0;32m      2\u001B[0m outputs \u001B[38;5;241m=\u001B[39m model\u001B[38;5;241m.\u001B[39mgenerate(inputs, max_length\u001B[38;5;241m=\u001B[39m\u001B[38;5;241m50\u001B[39m, num_return_sequences\u001B[38;5;241m=\u001B[39m\u001B[38;5;241m1\u001B[39m)\n\u001B[0;32m      3\u001B[0m response \u001B[38;5;241m=\u001B[39m tokenizer\u001B[38;5;241m.\u001B[39mdecode(outputs[\u001B[38;5;241m0\u001B[39m], skip_special_tokens\u001B[38;5;241m=\u001B[39m\u001B[38;5;28;01mTrue\u001B[39;00m)\n",
      "\u001B[1;31mNameError\u001B[0m: name 'tokenizer' is not defined"
     ]
    }
   ],
   "execution_count": 16
  },
  {
   "metadata": {
    "ExecuteTime": {
     "end_time": "2024-08-13T15:24:41.643994Z",
     "start_time": "2024-08-13T15:24:41.615012Z"
    }
   },
   "cell_type": "code",
   "source": [
    "user_query = \"Kullanıcı sorgusu burada\"\n",
    "# Bilgi alma kısmı\n",
    "retrieved_logs = search_logs(user_query)  # search_logs fonksiyonu sizin oluşturduğunuz fonksiyon olmalı\n",
    "# Yanıt oluşturma\n",
    "answer = generate_answer(user_query, retrieved_logs)  # generate_answer fonksiyonu sizin oluşturduğunuz fonksiyon olmalı\n"
   ],
   "id": "459b324d92d68b4b",
   "outputs": [
    {
     "ename": "NameError",
     "evalue": "name 'search_logs' is not defined",
     "output_type": "error",
     "traceback": [
      "\u001B[1;31m---------------------------------------------------------------------------\u001B[0m",
      "\u001B[1;31mNameError\u001B[0m                                 Traceback (most recent call last)",
      "Cell \u001B[1;32mIn[17], line 3\u001B[0m\n\u001B[0;32m      1\u001B[0m user_query \u001B[38;5;241m=\u001B[39m \u001B[38;5;124m\"\u001B[39m\u001B[38;5;124mKullanıcı sorgusu burada\u001B[39m\u001B[38;5;124m\"\u001B[39m\n\u001B[0;32m      2\u001B[0m \u001B[38;5;66;03m# Bilgi alma kısmı\u001B[39;00m\n\u001B[1;32m----> 3\u001B[0m retrieved_logs \u001B[38;5;241m=\u001B[39m \u001B[43msearch_logs\u001B[49m(user_query)  \u001B[38;5;66;03m# search_logs fonksiyonu sizin oluşturduğunuz fonksiyon olmalı\u001B[39;00m\n\u001B[0;32m      4\u001B[0m \u001B[38;5;66;03m# Yanıt oluşturma\u001B[39;00m\n\u001B[0;32m      5\u001B[0m answer \u001B[38;5;241m=\u001B[39m generate_answer(user_query, retrieved_logs)  \u001B[38;5;66;03m# generate_answer fonksiyonu sizin oluşturduğunuz fonksiyon olmalı\u001B[39;00m\n",
      "\u001B[1;31mNameError\u001B[0m: name 'search_logs' is not defined"
     ]
    }
   ],
   "execution_count": 17
  },
  {
   "metadata": {},
   "cell_type": "code",
   "outputs": [],
   "execution_count": null,
   "source": "",
   "id": "d4a9dab347889e81"
  }
 ],
 "metadata": {
  "kernelspec": {
   "display_name": "Python 3",
   "language": "python",
   "name": "python3"
  },
  "language_info": {
   "codemirror_mode": {
    "name": "ipython",
    "version": 2
   },
   "file_extension": ".py",
   "mimetype": "text/x-python",
   "name": "python",
   "nbconvert_exporter": "python",
   "pygments_lexer": "ipython2",
   "version": "2.7.6"
  }
 },
 "nbformat": 4,
 "nbformat_minor": 5
}
