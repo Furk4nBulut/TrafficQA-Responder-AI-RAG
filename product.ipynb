{
 "cells": [
  {
   "cell_type": "code",
   "id": "initial_id",
   "metadata": {
    "collapsed": true,
    "ExecuteTime": {
     "end_time": "2024-08-18T22:37:54.936596Z",
     "start_time": "2024-08-18T22:37:54.930465Z"
    }
   },
   "source": [
    "import pandas as pd\n",
    "from sklearn.feature_extraction.text import TfidfVectorizer\n",
    "import faiss\n",
    "import torch\n",
    "from transformers import GPT2LMHeadModel, GPT2Tokenizer\n",
    "from data_generator import DataGenerator"
   ],
   "outputs": [],
   "execution_count": 43
  },
  {
   "metadata": {
    "jupyter": {
     "is_executing": true
    },
    "ExecuteTime": {
     "start_time": "2024-08-18T22:37:55.373775Z"
    }
   },
   "cell_type": "code",
   "source": "DataGenerator.main()",
   "id": "28367f3fb70c9ca",
   "outputs": [],
   "execution_count": null
  },
  {
   "metadata": {
    "ExecuteTime": {
     "end_time": "2024-08-18T22:31:37.708836Z",
     "start_time": "2024-08-18T22:31:36.031398Z"
    }
   },
   "cell_type": "code",
   "source": [
    "data = pd.read_csv('data/apache/data.csv')\n",
    "print(\"Sütun Adları:\", data.columns)"
   ],
   "id": "2c1c8cece7726f48",
   "outputs": [
    {
     "name": "stdout",
     "output_type": "stream",
     "text": [
      "Sütun Adları: Index(['IP Address', 'Date', 'Request', 'Endpoint', 'Status Code',\n",
      "       'Response Size', 'Referrer', 'User Agent', 'Time Taken'],\n",
      "      dtype='object')\n"
     ]
    }
   ],
   "execution_count": 20
  },
  {
   "metadata": {
    "ExecuteTime": {
     "end_time": "2024-08-18T22:31:47.982962Z",
     "start_time": "2024-08-18T22:31:38.423089Z"
    }
   },
   "cell_type": "code",
   "source": [
    "data['Date'] = pd.to_datetime(data['Date'].str.strip('[]'), format='%d/%b/%Y:%H:%M:%S %z', errors='coerce')\n",
    "\n",
    "missing_values = data.isnull().sum()\n",
    "print(\"Eksik Veriler:\", missing_values)\n",
    "\n",
    "data = data.drop(columns=['Referrer', 'User Agent'], errors='ignore')\n",
    "\n",
    "data['Year'] = data['Date'].dt.year\n",
    "data['Month'] = data['Date'].dt.month\n",
    "data['Day'] = data['Date'].dt.day\n",
    "data['Hour'] = data['Date'].dt.hour\n",
    "data['Minute'] = data['Date'].dt.minute\n",
    "\n",
    "data['Status Code'] = pd.to_numeric(data['Status Code'], errors='coerce')\n",
    "\n",
    "data = data.dropna(subset=['Request', 'Endpoint', 'Status Code'])\n",
    "data = data[data['Request'].str.strip() != '']\n",
    "data = data[data['Endpoint'].str.strip() != '']\n",
    "data = data[data['Status Code'].notna()] \n",
    "\n",
    "data['Combined'] = data['Request'] + ' ' + data['Endpoint'] + ' ' + data['Status Code'].astype(str)\n",
    "\n",
    "print(data['Combined'].head())\n",
    "print(data['Combined'].isnull().sum())\n"
   ],
   "id": "d3bbf1445a08b748",
   "outputs": [
    {
     "name": "stdout",
     "output_type": "stream",
     "text": [
      "Eksik Veriler: IP Address       0\n",
      "Date             0\n",
      "Request          0\n",
      "Endpoint         0\n",
      "Status Code      0\n",
      "Response Size    0\n",
      "Referrer         0\n",
      "User Agent       0\n",
      "Time Taken       0\n",
      "dtype: int64\n",
      "0       GET /usr/register 403\n",
      "1          PUT /usr/login 404\n",
      "2      POST /usr/register 403\n",
      "3         POST /usr/admin 502\n",
      "4    DELETE /usr/register 404\n",
      "Name: Combined, dtype: object\n",
      "0\n"
     ]
    }
   ],
   "execution_count": 21
  },
  {
   "metadata": {
    "ExecuteTime": {
     "end_time": "2024-08-18T22:31:52.019462Z",
     "start_time": "2024-08-18T22:31:48.882712Z"
    }
   },
   "cell_type": "code",
   "source": [
    "vectorizer = TfidfVectorizer()\n",
    "X = vectorizer.fit_transform(data['Combined']).toarray()\n",
    "\n",
    "index = faiss.IndexFlatL2(X.shape[1])\n",
    "index.add(X.astype('float32'))\n"
   ],
   "id": "64676fa066921727",
   "outputs": [],
   "execution_count": 22
  },
  {
   "metadata": {
    "ExecuteTime": {
     "end_time": "2024-08-18T22:31:52.539008Z",
     "start_time": "2024-08-18T22:31:52.534127Z"
    }
   },
   "cell_type": "code",
   "source": [
    "\n",
    "def find_relevant_logs(query):\n",
    "    query_vector = vectorizer.transform([query]).toarray().astype('float32')\n",
    "    D, I = index.search(query_vector, 5)\n",
    "    return data.iloc[I[0]]\n",
    "\n",
    "def generate_response(logs):\n",
    "    input_text = \" \".join(\n",
    "        logs.apply(lambda row: f\"{row['Date']} {row['Request']} {row['Endpoint']} {row['Status Code']}\",\n",
    "                   axis=1).tolist())\n",
    "    input_text = input_text[:1000]  # Giriş metnini 1000 karakterle sınırlama\n",
    "\n",
    "    input_ids = tokenizer.encode(input_text, return_tensors='pt')\n",
    "    attention_mask = torch.ones(input_ids.shape, dtype=torch.long)\n",
    "\n",
    "    output = model.generate(input_ids, attention_mask=attention_mask, max_length=150, num_return_sequences=1,\n",
    "                            pad_token_id=tokenizer.eos_token_id)\n",
    "    response = tokenizer.decode(output[0], skip_special_tokens=True)\n",
    "    return response\n",
    "\n",
    "def answer_question(query):\n",
    "    relevant_logs = find_relevant_logs(query)\n",
    "    response = generate_response(relevant_logs)\n",
    "    return response"
   ],
   "id": "6fe8c10b250c17a5",
   "outputs": [],
   "execution_count": 23
  },
  {
   "metadata": {
    "ExecuteTime": {
     "end_time": "2024-08-18T22:31:54.589345Z",
     "start_time": "2024-08-18T22:31:53.463471Z"
    }
   },
   "cell_type": "code",
   "source": [
    "model_name = \"gpt2\"\n",
    "model = GPT2LMHeadModel.from_pretrained(model_name)\n",
    "tokenizer = GPT2Tokenizer.from_pretrained(model_name)"
   ],
   "id": "38b9e60d0b08f3bf",
   "outputs": [
    {
     "name": "stderr",
     "output_type": "stream",
     "text": [
      "C:\\Users\\reyiz\\anaconda3\\envs\\NLP\\Lib\\site-packages\\transformers\\tokenization_utils_base.py:1601: FutureWarning: `clean_up_tokenization_spaces` was not set. It will be set to `True` by default. This behavior will be depracted in transformers v4.45, and will be then set to `False` by default. For more details check this issue: https://github.com/huggingface/transformers/issues/31884\n",
      "  warnings.warn(\n"
     ]
    }
   ],
   "execution_count": 24
  },
  {
   "metadata": {
    "ExecuteTime": {
     "end_time": "2024-08-18T22:31:54.665511Z",
     "start_time": "2024-08-18T22:31:54.661866Z"
    }
   },
   "cell_type": "code",
   "source": [
    "# Test Sorguları Listesi\n",
    "queries = [\n",
    "    \"Son 24 saatte hangi URL'ler 500 hatası aldı?\",\n",
    "    \"Son bir ayda hangi IP adresleri en fazla 403 hatası aldı?\",\n",
    "    \"Son bir yıl içinde en sık kullanılan POST isteklerinin listesi nedir?\",\n",
    "    \"Son 30 gün içinde hangi tarayıcılar en fazla 404 hatası aldı?\",\n",
    "    \"Son haftada hangi endpoint'ler en yüksek Response Size'a sahipti?\",\n",
    "    \"En son 10 istekte hangi User Agent'lar kullanıldı?\",\n",
    "    \"En yüksek zaman alımı (Time Taken) olan 5 istek nedir?\",\n",
    "    \"Son 6 ayda hangi Referrer en çok ziyaret edildi?\",\n",
    "    \"Son 24 saatte hangi Endpoint'lerde 502 hatası alındı?\",\n",
    "    \"Hangi IP adresleri en uzun süre GET isteği yaptı?\",\n",
    "    \"Which IP adress has Longest GET time ?\",\n",
    "]"
   ],
   "id": "f05866b8334ca78",
   "outputs": [],
   "execution_count": 25
  },
  {
   "metadata": {
    "ExecuteTime": {
     "end_time": "2024-08-18T22:32:15.929020Z",
     "start_time": "2024-08-18T22:31:56.524037Z"
    }
   },
   "cell_type": "code",
   "source": [
    "# Her bir sorguyu test etme\n",
    "for query in queries:\n",
    "    print(\"-\" * 80)\n",
    "    print(\"\\n\")\n",
    "    \n",
    "    response = answer_question(query)\n",
    "    print(f\"Sorgu: {query}\")\n",
    "    print(f\"Modelin Yanıtı: {response}\")\n",
    "    print(\"\\n\")\n"
   ],
   "id": "fd1e8d3e760101b2",
   "outputs": [
    {
     "name": "stdout",
     "output_type": "stream",
     "text": [
      "--------------------------------------------------------------------------------\n",
      "\n",
      "\n",
      "Sorgu: Son 24 saatte hangi URL'ler 500 hatası aldı?\n",
      "Modelin Yanıtı: 2018-07-20 09:02:38+03:00 PUT /usr 500 2018-10-15 05:59:40+03:00 PUT /usr 500 2019-12-23 03:40:49+03:00 PUT /usr 500 2019-01-10 09:25:46+03:00 PUT /usr 500 2018-09-07 06:15:59+03:00 PUT /usr 500 2018-08-27 19:20:46+03:00 PUT /usr 500 2018-09-07 06:15:59+03:00 PUT /usr 500 2018-09-07 06:15:59+03:00 PUT /\n",
      "\n",
      "\n",
      "--------------------------------------------------------------------------------\n",
      "\n",
      "\n",
      "Sorgu: Son bir ayda hangi IP adresleri en fazla 403 hatası aldı?\n",
      "Modelin Yanıtı: 2019-11-16 09:04:54+03:00 PUT /usr 403 2019-01-03 03:44:33+03:00 PUT /usr 403 2019-02-25 12:01:06+03:00 PUT /usr 403 2019-07-16 10:23:53+03:00 PUT /usr 403 2018-10-30 07:34:23+03:00 PUT /usr 403 2018-10-30 07:34:23+03:00 PUT /usr 403 2018-10-30 07:34:23+03:00 PUT /usr 403 2018-10-30 07:34:23+03:00 PUT /\n",
      "\n",
      "\n",
      "--------------------------------------------------------------------------------\n",
      "\n",
      "\n",
      "Sorgu: Son bir yıl içinde en sık kullanılan POST isteklerinin listesi nedir?\n",
      "Modelin Yanıtı: 2019-03-08 12:12:21+03:00 POST /usr 403 2018-04-04 02:08:12+03:00 POST /usr 403 2018-05-17 10:11:22+03:00 POST /usr 403 2018-01-07 07:40:46+03:00 POST /usr 403 2018-02-15 12:16:55+03:00 POST /usr 403 2018-01-07 07:40:46+03:00 POST /usr 403 2018-01-07 07:40:46+03:00 POST /usr 403 2018-01-07 07:40:46+03:00 POST /usr 403 2018-01-07 07\n",
      "\n",
      "\n",
      "--------------------------------------------------------------------------------\n",
      "\n",
      "\n",
      "Sorgu: Son 30 gün içinde hangi tarayıcılar en fazla 404 hatası aldı?\n",
      "Modelin Yanıtı: 2018-11-05 01:01:50+03:00 PUT /usr 404 2019-11-29 03:41:18+03:00 PUT /usr 404 2018-10-17 12:34:57+03:00 PUT /usr 404 2019-01-21 02:38:42+03:00 PUT /usr 404 2018-02-27 06:58:39+03:00 PUT /usr 404 2018-01-21 02:38:42+03:00 PUT /usr 404 2018-01-21 02:38:42+03:00 PUT /usr 404 2018-01-21 02:38:42+03:00 PUT /\n",
      "\n",
      "\n",
      "--------------------------------------------------------------------------------\n",
      "\n",
      "\n",
      "Sorgu: Son haftada hangi endpoint'ler en yüksek Response Size'a sahipti?\n",
      "Modelin Yanıtı: 2019-03-22 01:47:47+03:00 POST /usr 200 2019-11-07 03:56:33+03:00 POST /usr 200 2019-10-21 07:20:16+03:00 DELETE /usr/admin 404 2018-06-24 01:37:02+03:00 DELETE /usr/admin 404 2018-06-12 04:45:09+03:00 POST /usr 200 2018-06-12 04:45:09+03:00 POST /usr 200 2018-06-12 04:45:09+03:00 POST /usr 200 2018-06-12 04:45:09+03:00 POST /\n",
      "\n",
      "\n",
      "--------------------------------------------------------------------------------\n",
      "\n",
      "\n",
      "Sorgu: En son 10 istekte hangi User Agent'lar kullanıldı?\n",
      "Modelin Yanıtı: 2019-03-22 01:47:47+03:00 POST /usr 200 2019-11-07 03:56:33+03:00 POST /usr 200 2019-10-21 07:20:16+03:00 DELETE /usr/admin 404 2018-06-24 01:37:02+03:00 DELETE /usr/admin 404 2018-06-12 04:45:09+03:00 POST /usr 200 2018-06-12 04:45:09+03:00 POST /usr 200 2018-06-12 04:45:09+03:00 POST /usr 200 2018-06-12 04:45:09+03:00 POST /\n",
      "\n",
      "\n",
      "--------------------------------------------------------------------------------\n",
      "\n",
      "\n",
      "Sorgu: En yüksek zaman alımı (Time Taken) olan 5 istek nedir?\n",
      "Modelin Yanıtı: 2019-03-22 01:47:47+03:00 POST /usr 200 2019-11-07 03:56:33+03:00 POST /usr 200 2019-10-21 07:20:16+03:00 DELETE /usr/admin 404 2018-06-24 01:37:02+03:00 DELETE /usr/admin 404 2018-06-12 04:45:09+03:00 POST /usr 200 2018-06-12 04:45:09+03:00 POST /usr 200 2018-06-12 04:45:09+03:00 POST /usr 200 2018-06-12 04:45:09+03:00 POST /\n",
      "\n",
      "\n",
      "--------------------------------------------------------------------------------\n",
      "\n",
      "\n",
      "Sorgu: Son 6 ayda hangi Referrer en çok ziyaret edildi?\n",
      "Modelin Yanıtı: 2019-03-22 01:47:47+03:00 POST /usr 200 2019-11-07 03:56:33+03:00 POST /usr 200 2019-10-21 07:20:16+03:00 DELETE /usr/admin 404 2018-06-24 01:37:02+03:00 DELETE /usr/admin 404 2018-06-12 04:45:09+03:00 POST /usr 200 2018-06-12 04:45:09+03:00 POST /usr 200 2018-06-12 04:45:09+03:00 POST /usr 200 2018-06-12 04:45:09+03:00 POST /\n",
      "\n",
      "\n",
      "--------------------------------------------------------------------------------\n",
      "\n",
      "\n",
      "Sorgu: Son 24 saatte hangi Endpoint'lerde 502 hatası alındı?\n",
      "Modelin Yanıtı: 2019-01-19 03:20:04+03:00 PUT /usr 502 2019-02-06 06:43:46+03:00 PUT /usr 502 2018-01-08 05:13:18+03:00 PUT /usr 502 2018-12-21 05:24:22+03:00 PUT /usr 502 2018-01-06 02:45:08+03:00 PUT /usr 502 2018-01-06 02:45:08+03:00 PUT /usr 502 2018-01-06 02:45:08+03:00 PUT /usr 502 2018-01-06 02:45:08+03:00 PUT /\n",
      "\n",
      "\n",
      "--------------------------------------------------------------------------------\n",
      "\n",
      "\n",
      "Sorgu: Hangi IP adresleri en uzun süre GET isteği yaptı?\n",
      "Modelin Yanıtı: 2019-02-24 07:36:45+03:00 GET /usr 403 2019-01-26 08:58:07+03:00 GET /usr 403 2019-08-14 08:38:10+03:00 GET /usr 403 2019-08-13 08:53:34+03:00 GET /usr 403 2018-02-14 09:31:47+03:00 GET /usr 403 2018-02-14 09:31:47+03:00 GET /usr 403 2018-02-14 09:31:47+03:00 GET /usr 403 2018-02-14 09:31:47+03:00 GET /usr 403 2018-02-14 09\n",
      "\n",
      "\n",
      "--------------------------------------------------------------------------------\n",
      "\n",
      "\n",
      "Sorgu: Which IP adress has Longest GET time ?\n",
      "Modelin Yanıtı: 2019-02-24 07:36:45+03:00 GET /usr 403 2019-01-26 08:58:07+03:00 GET /usr 403 2019-08-14 08:38:10+03:00 GET /usr 403 2019-08-13 08:53:34+03:00 GET /usr 403 2018-02-14 09:31:47+03:00 GET /usr 403 2018-02-14 09:31:47+03:00 GET /usr 403 2018-02-14 09:31:47+03:00 GET /usr 403 2018-02-14 09:31:47+03:00 GET /usr 403 2018-02-14 09\n",
      "\n",
      "\n"
     ]
    }
   ],
   "execution_count": 26
  },
  {
   "metadata": {},
   "cell_type": "code",
   "outputs": [],
   "execution_count": null,
   "source": "",
   "id": "dc3c1172e264ee0e"
  }
 ],
 "metadata": {
  "kernelspec": {
   "display_name": "Python 3",
   "language": "python",
   "name": "python3"
  },
  "language_info": {
   "codemirror_mode": {
    "name": "ipython",
    "version": 2
   },
   "file_extension": ".py",
   "mimetype": "text/x-python",
   "name": "python",
   "nbconvert_exporter": "python",
   "pygments_lexer": "ipython2",
   "version": "2.7.6"
  }
 },
 "nbformat": 4,
 "nbformat_minor": 5
}
