{
 "cells": [
  {
   "metadata": {},
   "cell_type": "markdown",
   "source": "# Apache Log Verileri ile Soru-Cevap Sistemi",
   "id": "a15943bf9c4d353f"
  },
  {
   "metadata": {},
   "cell_type": "markdown",
   "source": [
    "Kullanılacak kütüphanelerin yüklenmesi\n",
    "\n",
    "- pandas: Veri işleme ve analiz kütüphanesi\n",
    "- sklearn: Makine öğrenimi kütüphanesi\n",
    "- faiss: Vektör verileri için benzerlik arama kütüphanesi\n",
    "- torch: PyTorch kütüphanesi\n",
    "- transformers: Hugging Face tarafından geliştirilen model ve tokenizasyon kütüphanesi\n",
    "- data_generator: Verileri oluşturmak için yazılan özel kütüphane"
   ],
   "id": "b10fb7cf3e1006e"
  },
  {
   "cell_type": "code",
   "id": "initial_id",
   "metadata": {
    "collapsed": true,
    "ExecuteTime": {
     "end_time": "2024-08-19T08:07:58.991545Z",
     "start_time": "2024-08-19T08:07:55.059484Z"
    }
   },
   "source": [
    "import pandas as pd\n",
    "from sklearn.feature_extraction.text import TfidfVectorizer\n",
    "import faiss\n",
    "import torch\n",
    "from transformers import GPT2LMHeadModel, GPT2Tokenizer\n",
    "from data_generator import DataGenerator"
   ],
   "outputs": [],
   "execution_count": 1
  },
  {
   "metadata": {},
   "cell_type": "markdown",
   "source": [
    "Veri Oluşturma\n",
    "- data_generator kütüphanesi ile veri oluşturma\n",
    "Not: Bu işlem  1 dakika 20 saniye civarında sürecektir. Hata alınması halinde 'data_generator/DataGenerator.py' dosyasını yolunu düzelterek çalıştırınız veya 'maintance/DataGenerator.py çalıştırınız."
   ],
   "id": "db4d587aabc84758"
  },
  {
   "metadata": {
    "ExecuteTime": {
     "end_time": "2024-08-19T08:09:18.528203Z",
     "start_time": "2024-08-19T08:07:59.969376Z"
    }
   },
   "cell_type": "code",
   "source": "DataGenerator.main()",
   "id": "28367f3fb70c9ca",
   "outputs": [
    {
     "name": "stdout",
     "output_type": "stream",
     "text": [
      "Test dosyası başarıyla oluşturuldu!\n",
      "Test dosyası oluşturuldu!\n",
      "Log dosyası başarıyla CSV formatına dönüştürüldü!\n",
      "Log dosyası başarıyla CSV formatına dönüştürüldü!\n"
     ]
    }
   ],
   "execution_count": 2
  },
  {
   "metadata": {
    "ExecuteTime": {
     "end_time": "2024-08-19T08:09:23.855078Z",
     "start_time": "2024-08-19T08:09:22.273448Z"
    }
   },
   "cell_type": "code",
   "source": [
    "data = pd.read_csv('data/apache/data.csv')\n",
    "print(\"Sütun Adları:\", data.columns)"
   ],
   "id": "2c1c8cece7726f48",
   "outputs": [
    {
     "name": "stdout",
     "output_type": "stream",
     "text": [
      "Sütun Adları: Index(['IP Address', 'Date', 'Request', 'Endpoint', 'Status Code',\n",
      "       'Response Size', 'Referrer', 'User Agent', 'Time Taken'],\n",
      "      dtype='object')\n"
     ]
    }
   ],
   "execution_count": 3
  },
  {
   "metadata": {},
   "cell_type": "markdown",
   "source": [
    "Veri Ön İşleme\n",
    "- Tarih sütununun düzeltilmesi\n",
    "- Eksik verilerin kontrolü\n",
    "- Gereksiz sütunların çıkarılması\n",
    "- Yıl, ay, gün, saat ve dakika sütunlarının oluşturulması\n",
    "- Boş verilerin temizlenmesi\n",
    "- Boş olmayan verilerin kontrolü\n",
    "- Request, Endpoint ve Status Code sütunlarının birleştirilmesi"
   ],
   "id": "34d5e1c36a3697d9"
  },
  {
   "metadata": {
    "ExecuteTime": {
     "end_time": "2024-08-19T08:09:35.828553Z",
     "start_time": "2024-08-19T08:09:26.523026Z"
    }
   },
   "cell_type": "code",
   "source": [
    "data['Date'] = pd.to_datetime(data['Date'].str.strip('[]'), format='%d/%b/%Y:%H:%M:%S %z', errors='coerce')\n",
    "\n",
    "missing_values = data.isnull().sum()\n",
    "print(\"Eksik Veriler:\", missing_values)\n",
    "\n",
    "data = data.drop(columns=['Referrer', 'User Agent'], errors='ignore')\n",
    "\n",
    "data['Year'] = data['Date'].dt.year\n",
    "data['Month'] = data['Date'].dt.month\n",
    "data['Day'] = data['Date'].dt.day\n",
    "data['Hour'] = data['Date'].dt.hour\n",
    "data['Minute'] = data['Date'].dt.minute\n",
    "\n",
    "data['Status Code'] = pd.to_numeric(data['Status Code'], errors='coerce')\n",
    "\n",
    "data = data.dropna(subset=['Request', 'Endpoint', 'Status Code'])\n",
    "data = data[data['Request'].str.strip() != '']\n",
    "data = data[data['Endpoint'].str.strip() != '']\n",
    "data = data[data['Status Code'].notna()] \n",
    "\n",
    "data['Combined'] = data['Request'] + ' ' + data['Endpoint'] + ' ' + data['Status Code'].astype(str)\n",
    "\n",
    "print(data['Combined'].head())\n",
    "print(data['Combined'].isnull().sum())\n"
   ],
   "id": "d3bbf1445a08b748",
   "outputs": [
    {
     "name": "stdout",
     "output_type": "stream",
     "text": [
      "Eksik Veriler: IP Address       0\n",
      "Date             0\n",
      "Request          0\n",
      "Endpoint         0\n",
      "Status Code      0\n",
      "Response Size    0\n",
      "Referrer         0\n",
      "User Agent       0\n",
      "Time Taken       0\n",
      "dtype: int64\n",
      "0           DELETE /usr/admin 304\n",
      "1    GET /usr/admin/developer 403\n",
      "2        DELETE /usr/register 200\n",
      "3             POST /usr/admin 303\n",
      "4             POST /usr/admin 404\n",
      "Name: Combined, dtype: object\n",
      "0\n"
     ]
    }
   ],
   "execution_count": 4
  },
  {
   "metadata": {},
   "cell_type": "markdown",
   "source": [
    "TF-IDF Vektörleri Oluşturma\n",
    "- Tüm verilerin birleştirilmesi\n",
    "- TF-IDF vektörlerinin oluşturulması\n",
    "- Vektörlerin faiss kütüphanesi ile benzerlik araması için hazırlanması"
   ],
   "id": "128b7900c5c93c0c"
  },
  {
   "metadata": {
    "ExecuteTime": {
     "end_time": "2024-08-19T08:09:39.995585Z",
     "start_time": "2024-08-19T08:09:36.888030Z"
    }
   },
   "cell_type": "code",
   "source": [
    "vectorizer = TfidfVectorizer()\n",
    "X = vectorizer.fit_transform(data['Combined']).toarray()\n",
    "\n",
    "index = faiss.IndexFlatL2(X.shape[1])\n",
    "index.add(X.astype('float32'))\n"
   ],
   "id": "64676fa066921727",
   "outputs": [],
   "execution_count": 5
  },
  {
   "metadata": {},
   "cell_type": "markdown",
   "source": [
    "Sorgu ve Yanıt Oluşturma\n",
    "- Verilen sorguya en yakın logları bulma\n",
    "- Bulunan loglar üzerinden model ile yanıt oluşturma\n",
    "- Sorgu ve yanıtların test edilmesi\n",
    "- Modelin yanıtlarının gösterilmesi"
   ],
   "id": "da6cc0eb417e5c4f"
  },
  {
   "metadata": {
    "ExecuteTime": {
     "end_time": "2024-08-19T08:09:41.067251Z",
     "start_time": "2024-08-19T08:09:41.061631Z"
    }
   },
   "cell_type": "code",
   "source": [
    "def find_relevant_logs(query):\n",
    "    query_vector = vectorizer.transform([query]).toarray().astype('float32')\n",
    "    D, I = index.search(query_vector, 5)\n",
    "    return data.iloc[I[0]]\n",
    "\n",
    "def generate_response(logs):\n",
    "    input_text = \" \".join(\n",
    "           logs.apply(\n",
    "        lambda row: f\"{row['IP Address']} {row['Date']} {row['Request']} {row['Endpoint']} {row['Status Code']} \"\n",
    "                    f\"{row['Response Size']}{row['Time Taken']}\",\n",
    "        axis=1\n",
    "    ).tolist()\n",
    "    )\n",
    "    input_text = input_text[:1000] \n",
    "\n",
    "    input_ids = tokenizer.encode(input_text, return_tensors='pt')\n",
    "    attention_mask = torch.ones(input_ids.shape, dtype=torch.long)\n",
    "\n",
    "    output = model.generate(input_ids, attention_mask=attention_mask, max_new_tokens=50, num_return_sequences=1,\n",
    "                            pad_token_id=tokenizer.eos_token_id)\n",
    "    response = tokenizer.decode(output[0], skip_special_tokens=True)\n",
    "    return response\n",
    "\n",
    "def answer_question(query):\n",
    "    relevant_logs = find_relevant_logs(query)\n",
    "    response = generate_response(relevant_logs)\n",
    "    return response"
   ],
   "id": "6fe8c10b250c17a5",
   "outputs": [],
   "execution_count": 6
  },
  {
   "metadata": {},
   "cell_type": "markdown",
   "source": [
    "Model ve Token\n",
    "- GPT-2 modeli ve tokenizasyonu yüklenmesi"
   ],
   "id": "b99ea16f59788df6"
  },
  {
   "metadata": {
    "ExecuteTime": {
     "end_time": "2024-08-19T08:09:44.872078Z",
     "start_time": "2024-08-19T08:09:43.583965Z"
    }
   },
   "cell_type": "code",
   "source": [
    "model_name = \"gpt2\"\n",
    "model = GPT2LMHeadModel.from_pretrained(model_name)\n",
    "tokenizer = GPT2Tokenizer.from_pretrained(model_name)"
   ],
   "id": "38b9e60d0b08f3bf",
   "outputs": [
    {
     "name": "stderr",
     "output_type": "stream",
     "text": [
      "C:\\Users\\reyiz\\anaconda3\\envs\\NLP\\Lib\\site-packages\\transformers\\tokenization_utils_base.py:1601: FutureWarning: `clean_up_tokenization_spaces` was not set. It will be set to `True` by default. This behavior will be depracted in transformers v4.45, and will be then set to `False` by default. For more details check this issue: https://github.com/huggingface/transformers/issues/31884\n",
      "  warnings.warn(\n"
     ]
    }
   ],
   "execution_count": 7
  },
  {
   "metadata": {},
   "cell_type": "markdown",
   "source": [
    "Test Sorguları Listesi\n",
    "- Modelin test edilmesi için sorguların listesi"
   ],
   "id": "5810570ffdba8c32"
  },
  {
   "metadata": {
    "ExecuteTime": {
     "end_time": "2024-08-19T08:09:46.612848Z",
     "start_time": "2024-08-19T08:09:46.609755Z"
    }
   },
   "cell_type": "code",
   "source": [
    "# Test Sorguları Listesi\n",
    "queries = [\n",
    "    \"Son 24 saatte hangi URL'ler 500 hatası aldı?\",\n",
    "    \"Son bir ayda hangi IP adresleri en fazla 403 hatası aldı?\",\n",
    "    \"Son bir yıl içinde en sık kullanılan POST isteklerinin listesi nedir?\",\n",
    "    \"Son 30 gün içinde hangi tarayıcılar en fazla 404 hatası aldı?\",\n",
    "    \"Son haftada hangi endpoint'ler en yüksek Response Size'a sahipti?\",\n",
    "    \"En son 10 istekte hangi User Agent'lar kullanıldı?\",\n",
    "    \"En yüksek zaman alımı (Time Taken) olan 5 istek nedir?\",\n",
    "    \"Son 6 ayda hangi Referrer en çok ziyaret edildi?\",\n",
    "    \"Son 24 saatte hangi Endpoint'lerde 502 hatası alındı?\",\n",
    "    \"Hangi IP adresleri en uzun süre GET isteği yaptı?\",\n",
    "    \"Which IP adress has Longest GET time ?\",\n",
    "]"
   ],
   "id": "f05866b8334ca78",
   "outputs": [],
   "execution_count": 8
  },
  {
   "metadata": {},
   "cell_type": "markdown",
   "source": [
    "Her bir sorguyu test etme\n",
    "- Her bir sorgu için modelin yanıtının gösterilmesi\n",
    "- Sorgu ve yanıtların gösterilmesi"
   ],
   "id": "45491dc6ef19cc00"
  },
  {
   "metadata": {
    "ExecuteTime": {
     "end_time": "2024-08-19T08:10:05.895395Z",
     "start_time": "2024-08-19T08:09:48.179711Z"
    }
   },
   "cell_type": "code",
   "source": [
    "# Her bir sorguyu test etme\n",
    "for query in queries:\n",
    "    print(\"-\" * 80)\n",
    "    print(\"\\n\")\n",
    "    \n",
    "    response = answer_question(query)\n",
    "    print(f\"Sorgu: {query}\")\n",
    "    print(f\"Modelin Yanıtı: {response}\")\n",
    "    print(\"\\n\")\n"
   ],
   "id": "fd1e8d3e760101b2",
   "outputs": [
    {
     "name": "stdout",
     "output_type": "stream",
     "text": [
      "--------------------------------------------------------------------------------\n",
      "\n",
      "\n",
      "Sorgu: Son 24 saatte hangi URL'ler 500 hatası aldı?\n",
      "Modelin Yanıtı: 96.68.199.108 2018-08-21 03:30:34+03:00 PUT /usr 500 50531485 3.40.17.73 2018-07-18 08:26:21+03:00 PUT /usr 500 4997259 207.156.196.166 2018-06-21 11:50:13+03:00 PUT /usr 500 4964801 182.56.169.80 2019-06-23 10:33:23+03:00 PUT /usr 500 4969520 215.43.250.126 2018-06-02 05:41:34+03:00 PUT /usr 500 50371939 4.0.0.0 2018-05-29 19:54:34+00:00 PUT /usr 500 4981401 4.0.0.0 2018-05-29 19:54:34+00:\n",
      "\n",
      "\n",
      "--------------------------------------------------------------------------------\n",
      "\n",
      "\n",
      "Sorgu: Son bir ayda hangi IP adresleri en fazla 403 hatası aldı?\n",
      "Modelin Yanıtı: 170.23.19.156 2019-07-02 11:09:51+03:00 PUT /usr 403 496496 72.148.88.9 2018-09-15 02:11:37+03:00 PUT /usr 403 49714740 79.25.89.32 2019-04-03 01:36:58+03:00 PUT /usr 403 49741142 32.234.127.92 2019-09-19 07:37:00+03:00 PUT /usr 403 49743271 45.215.69.249 2018-05-06 03:17:12+03:00 PUT /usr 403 50054032 79.25.89.32 2019-09-19 07:37:00+03:00 PUT /usr 403 49744251 46.215.69.249 2018-05-06 03:17:12+03:\n",
      "\n",
      "\n",
      "--------------------------------------------------------------------------------\n",
      "\n",
      "\n",
      "Sorgu: Son bir yıl içinde en sık kullanılan POST isteklerinin listesi nedir?\n",
      "Modelin Yanıtı: 128.152.168.7 2018-10-30 09:58:41+03:00 POST /usr 200 49332169 45.167.124.41 2018-09-24 07:04:31+03:00 POST /usr 200 4877708 185.209.18.231 2019-05-14 07:04:13+03:00 POST /usr 200 50192653 31.3.173.226 2019-11-28 08:50:04+03:00 POST /usr 200 49962136 139.191.59.184 2018-08-26 11:17:49+03:00 POST /usr 200 50233788 15.0.0.0 2018-08-26 11:17:49+03:00 POST /usr 200 50233788 15.0.0.0 2018-08-26 11:17:49+03:00\n",
      "\n",
      "\n",
      "--------------------------------------------------------------------------------\n",
      "\n",
      "\n",
      "Sorgu: Son 30 gün içinde hangi tarayıcılar en fazla 404 hatası aldı?\n",
      "Modelin Yanıtı: 188.82.186.66 2018-08-14 03:37:03+03:00 PUT /usr 404 50054424 146.192.75.82 2019-02-25 03:35:59+03:00 PUT /usr 404 50121466 11.22.105.46 2018-01-19 07:30:38+03:00 PUT /usr 404 49942706 35.223.231.15 2018-01-29 10:31:17+03:00 PUT /usr 404 49571824 59.105.216.217 2018-06-11 03:58:04+03:00 PUT /usr 404 50023116 14.192.75.82 2019-01-29 10:31:17+03:00 PUT /usr 404 50939094 14.192.75.82 2019-01-29 10:31:17+03\n",
      "\n",
      "\n",
      "--------------------------------------------------------------------------------\n",
      "\n",
      "\n",
      "Sorgu: Son haftada hangi endpoint'ler en yüksek Response Size'a sahipti?\n",
      "Modelin Yanıtı: 167.178.142.229 2019-12-07 01:21:39+03:00 PUT /usr/login 500 50431185 200.188.88.222 2018-05-11 07:05:06+03:00 PUT /usr/login 500 50414920 140.104.2.52 2019-06-08 12:53:57+03:00 PUT /usr/login 500 49723463 155.220.39.211 2018-03-08 01:00:20+03:00 PUT /usr/login 500 48923154 59.240.131.159 2018-05-14 07:14:59+03:00 PUT /usr/login 500 4984617 0.0.0.0 2018-05-14 07:14:59+03:00 PUT /usr/login 500 4984617 0.0.0.0 2018-05-14 07:14:59+\n",
      "\n",
      "\n",
      "--------------------------------------------------------------------------------\n",
      "\n",
      "\n",
      "Sorgu: En son 10 istekte hangi User Agent'lar kullanıldı?\n",
      "Modelin Yanıtı: 167.178.142.229 2019-12-07 01:21:39+03:00 PUT /usr/login 500 50431185 200.188.88.222 2018-05-11 07:05:06+03:00 PUT /usr/login 500 50414920 140.104.2.52 2019-06-08 12:53:57+03:00 PUT /usr/login 500 49723463 155.220.39.211 2018-03-08 01:00:20+03:00 PUT /usr/login 500 48923154 59.240.131.159 2018-05-14 07:14:59+03:00 PUT /usr/login 500 4984617 0.0.0.0 2018-05-14 07:14:59+03:00 PUT /usr/login 500 4984617 0.0.0.0 2018-05-14 07:14:59+\n",
      "\n",
      "\n",
      "--------------------------------------------------------------------------------\n",
      "\n",
      "\n",
      "Sorgu: En yüksek zaman alımı (Time Taken) olan 5 istek nedir?\n",
      "Modelin Yanıtı: 167.178.142.229 2019-12-07 01:21:39+03:00 PUT /usr/login 500 50431185 200.188.88.222 2018-05-11 07:05:06+03:00 PUT /usr/login 500 50414920 140.104.2.52 2019-06-08 12:53:57+03:00 PUT /usr/login 500 49723463 155.220.39.211 2018-03-08 01:00:20+03:00 PUT /usr/login 500 48923154 59.240.131.159 2018-05-14 07:14:59+03:00 PUT /usr/login 500 4984617 0.0.0.0 2018-05-14 07:14:59+03:00 PUT /usr/login 500 4984617 0.0.0.0 2018-05-14 07:14:59+\n",
      "\n",
      "\n",
      "--------------------------------------------------------------------------------\n",
      "\n",
      "\n",
      "Sorgu: Son 6 ayda hangi Referrer en çok ziyaret edildi?\n",
      "Modelin Yanıtı: 167.178.142.229 2019-12-07 01:21:39+03:00 PUT /usr/login 500 50431185 200.188.88.222 2018-05-11 07:05:06+03:00 PUT /usr/login 500 50414920 140.104.2.52 2019-06-08 12:53:57+03:00 PUT /usr/login 500 49723463 155.220.39.211 2018-03-08 01:00:20+03:00 PUT /usr/login 500 48923154 59.240.131.159 2018-05-14 07:14:59+03:00 PUT /usr/login 500 4984617 0.0.0.0 2018-05-14 07:14:59+03:00 PUT /usr/login 500 4984617 0.0.0.0 2018-05-14 07:14:59+\n",
      "\n",
      "\n",
      "--------------------------------------------------------------------------------\n",
      "\n",
      "\n",
      "Sorgu: Son 24 saatte hangi Endpoint'lerde 502 hatası alındı?\n",
      "Modelin Yanıtı: 186.15.20.143 2018-11-25 07:41:00+03:00 PUT /usr 502 49022129 39.51.204.146 2019-03-02 08:25:17+03:00 PUT /usr 502 50074812 220.68.52.105 2018-02-21 04:58:01+03:00 PUT /usr 502 50182328 73.100.181.59 2018-02-05 05:11:21+03:00 PUT /usr 502 50141700 215.253.7.32 2018-05-04 11:41:45+03:00 PUT /usr 502 49383292 20.50.194.146 2018-05-04 11:41:45+03:00 PUT /usr 502 49383700 20.50.194.146 2018-05-04 11:41:45+03:\n",
      "\n",
      "\n",
      "--------------------------------------------------------------------------------\n",
      "\n",
      "\n",
      "Sorgu: Hangi IP adresleri en uzun süre GET isteği yaptı?\n",
      "Modelin Yanıtı: 102.194.65.2 2019-04-09 03:46:37+03:00 GET /usr 200 50761254 108.37.181.203 2019-01-07 03:24:21+03:00 GET /usr 200 50134978 206.51.31.46 2018-08-10 07:32:00+03:00 GET /usr 200 48892008 118.227.198.117 2018-12-24 01:39:44+03:00 GET /usr 200 49901389 219.116.64.70 2019-10-15 10:11:56+03:00 GET /usr 200 49453349 218.116.64.70 2018-09-29 19:59:20+03:00 GET /usr 200 49453349 218.116.64.70 2018-09-29 19:59:20+03:00\n",
      "\n",
      "\n",
      "--------------------------------------------------------------------------------\n",
      "\n",
      "\n",
      "Sorgu: Which IP adress has Longest GET time ?\n",
      "Modelin Yanıtı: 102.194.65.2 2019-04-09 03:46:37+03:00 GET /usr 200 50761254 108.37.181.203 2019-01-07 03:24:21+03:00 GET /usr 200 50134978 206.51.31.46 2018-08-10 07:32:00+03:00 GET /usr 200 48892008 118.227.198.117 2018-12-24 01:39:44+03:00 GET /usr 200 49901389 219.116.64.70 2019-10-15 10:11:56+03:00 GET /usr 200 49453349 218.116.64.70 2018-09-29 19:59:20+03:00 GET /usr 200 49453349 218.116.64.70 2018-09-29 19:59:20+03:00\n",
      "\n",
      "\n"
     ]
    }
   ],
   "execution_count": 9
  },
  {
   "metadata": {},
   "cell_type": "markdown",
   "source": "Sorgular ile üretilen yanıtlar arasında bir ilişki olduğu gözlenmekte olup, modelin verileri doğru bir şekilde işlediği görülmektedir.",
   "id": "525a1f5802efbe31"
  }
 ],
 "metadata": {
  "kernelspec": {
   "display_name": "Python 3",
   "language": "python",
   "name": "python3"
  },
  "language_info": {
   "codemirror_mode": {
    "name": "ipython",
    "version": 2
   },
   "file_extension": ".py",
   "mimetype": "text/x-python",
   "name": "python",
   "nbconvert_exporter": "python",
   "pygments_lexer": "ipython2",
   "version": "2.7.6"
  }
 },
 "nbformat": 4,
 "nbformat_minor": 5
}
