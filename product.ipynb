{
 "cells": [
  {
   "metadata": {},
   "cell_type": "markdown",
   "source": "# Apache Log Verileri ile Soru-Cevap Sistemi",
   "id": "a15943bf9c4d353f"
  },
  {
   "metadata": {},
   "cell_type": "markdown",
   "source": [
    "Kullanılacak kütüphanelerin yüklenmesi\n",
    "\n",
    "- pandas: Veri işleme ve analiz kütüphanesi\n",
    "- sklearn: Makine öğrenimi kütüphanesi\n",
    "- faiss: Vektör verileri için benzerlik arama kütüphanesi\n",
    "- torch: PyTorch kütüphanesi\n",
    "- transformers: Hugging Face tarafından geliştirilen model ve tokenizasyon kütüphanesi\n",
    "- data_generator: Verileri oluşturmak için yazılan özel kütüphane"
   ],
   "id": "b10fb7cf3e1006e"
  },
  {
   "cell_type": "code",
   "id": "initial_id",
   "metadata": {
    "collapsed": true,
    "ExecuteTime": {
     "end_time": "2024-08-19T07:46:06.299086Z",
     "start_time": "2024-08-19T07:46:02.533474Z"
    }
   },
   "source": [
    "import pandas as pd\n",
    "from sklearn.feature_extraction.text import TfidfVectorizer\n",
    "import faiss\n",
    "import torch\n",
    "from transformers import GPT2LMHeadModel, GPT2Tokenizer\n",
    "from data_generator import DataGenerator"
   ],
   "outputs": [],
   "execution_count": 1
  },
  {
   "metadata": {},
   "cell_type": "markdown",
   "source": [
    "Veri Oluşturma\n",
    "- data_generator kütüphanesi ile veri oluşturma\n",
    "Not: Bu işlem  1 dakika 20 saniye civarında sürecektir. Hata alınması halinde 'data_generator/DataGenerator.py' dosyasını çalıştırınız."
   ],
   "id": "db4d587aabc84758"
  },
  {
   "metadata": {
    "ExecuteTime": {
     "end_time": "2024-08-19T07:47:26.745278Z",
     "start_time": "2024-08-19T07:46:07.426853Z"
    }
   },
   "cell_type": "code",
   "source": "DataGenerator.main()",
   "id": "28367f3fb70c9ca",
   "outputs": [
    {
     "name": "stdout",
     "output_type": "stream",
     "text": [
      "Test dosyası başarıyla oluşturuldu!\n",
      "Test dosyası oluşturuldu!\n",
      "Log dosyası başarıyla CSV formatına dönüştürüldü!\n",
      "Log dosyası başarıyla CSV formatına dönüştürüldü!\n"
     ]
    }
   ],
   "execution_count": 2
  },
  {
   "metadata": {
    "ExecuteTime": {
     "end_time": "2024-08-19T07:48:47.005036Z",
     "start_time": "2024-08-19T07:48:45.397952Z"
    }
   },
   "cell_type": "code",
   "source": [
    "data = pd.read_csv('data/apache/data.csv')\n",
    "print(\"Sütun Adları:\", data.columns)"
   ],
   "id": "2c1c8cece7726f48",
   "outputs": [
    {
     "name": "stdout",
     "output_type": "stream",
     "text": [
      "Sütun Adları: Index(['IP Address', 'Date', 'Request', 'Endpoint', 'Status Code',\n",
      "       'Response Size', 'Referrer', 'User Agent', 'Time Taken'],\n",
      "      dtype='object')\n"
     ]
    }
   ],
   "execution_count": 3
  },
  {
   "metadata": {},
   "cell_type": "markdown",
   "source": [
    "Veri Ön İşleme\n",
    "- Tarih sütununun düzeltilmesi\n",
    "- Eksik verilerin kontrolü\n",
    "- Gereksiz sütunların çıkarılması\n",
    "- Yıl, ay, gün, saat ve dakika sütunlarının oluşturulması\n",
    "- Boş verilerin temizlenmesi\n",
    "- Boş olmayan verilerin kontrolü\n",
    "- Request, Endpoint ve Status Code sütunlarının birleştirilmesi"
   ],
   "id": "34d5e1c36a3697d9"
  },
  {
   "metadata": {
    "ExecuteTime": {
     "end_time": "2024-08-19T07:48:57.891402Z",
     "start_time": "2024-08-19T07:48:48.692938Z"
    }
   },
   "cell_type": "code",
   "source": [
    "data['Date'] = pd.to_datetime(data['Date'].str.strip('[]'), format='%d/%b/%Y:%H:%M:%S %z', errors='coerce')\n",
    "\n",
    "missing_values = data.isnull().sum()\n",
    "print(\"Eksik Veriler:\", missing_values)\n",
    "\n",
    "data = data.drop(columns=['Referrer', 'User Agent'], errors='ignore')\n",
    "\n",
    "data['Year'] = data['Date'].dt.year\n",
    "data['Month'] = data['Date'].dt.month\n",
    "data['Day'] = data['Date'].dt.day\n",
    "data['Hour'] = data['Date'].dt.hour\n",
    "data['Minute'] = data['Date'].dt.minute\n",
    "\n",
    "data['Status Code'] = pd.to_numeric(data['Status Code'], errors='coerce')\n",
    "\n",
    "data = data.dropna(subset=['Request', 'Endpoint', 'Status Code'])\n",
    "data = data[data['Request'].str.strip() != '']\n",
    "data = data[data['Endpoint'].str.strip() != '']\n",
    "data = data[data['Status Code'].notna()] \n",
    "\n",
    "data['Combined'] = data['Request'] + ' ' + data['Endpoint'] + ' ' + data['Status Code'].astype(str)\n",
    "\n",
    "print(data['Combined'].head())\n",
    "print(data['Combined'].isnull().sum())\n"
   ],
   "id": "d3bbf1445a08b748",
   "outputs": [
    {
     "name": "stdout",
     "output_type": "stream",
     "text": [
      "Eksik Veriler: IP Address       0\n",
      "Date             0\n",
      "Request          0\n",
      "Endpoint         0\n",
      "Status Code      0\n",
      "Response Size    0\n",
      "Referrer         0\n",
      "User Agent       0\n",
      "Time Taken       0\n",
      "dtype: int64\n",
      "0               PUT /usr/admin 200\n",
      "1     PUT /usr/admin/developer 200\n",
      "2     GET /usr/admin/developer 304\n",
      "3    POST /usr/admin/developer 304\n",
      "4     PUT /usr/admin/developer 200\n",
      "Name: Combined, dtype: object\n",
      "0\n"
     ]
    }
   ],
   "execution_count": 4
  },
  {
   "metadata": {},
   "cell_type": "markdown",
   "source": [
    "TF-IDF Vektörleri Oluşturma\n",
    "- Tüm verilerin birleştirilmesi\n",
    "- TF-IDF vektörlerinin oluşturulması\n",
    "- Vektörlerin faiss kütüphanesi ile benzerlik araması için hazırlanması"
   ],
   "id": "128b7900c5c93c0c"
  },
  {
   "metadata": {
    "ExecuteTime": {
     "end_time": "2024-08-19T07:49:01.866954Z",
     "start_time": "2024-08-19T07:48:58.783513Z"
    }
   },
   "cell_type": "code",
   "source": [
    "vectorizer = TfidfVectorizer()\n",
    "X = vectorizer.fit_transform(data['Combined']).toarray()\n",
    "\n",
    "index = faiss.IndexFlatL2(X.shape[1])\n",
    "index.add(X.astype('float32'))\n"
   ],
   "id": "64676fa066921727",
   "outputs": [],
   "execution_count": 5
  },
  {
   "metadata": {},
   "cell_type": "markdown",
   "source": [
    "Sorgu ve Yanıt Oluşturma\n",
    "- Verilen sorguya en yakın logları bulma\n",
    "- Bulunan loglar üzerinden model ile yanıt oluşturma\n",
    "- Sorgu ve yanıtların test edilmesi\n",
    "- Modelin yanıtlarının gösterilmesi"
   ],
   "id": "da6cc0eb417e5c4f"
  },
  {
   "metadata": {
    "ExecuteTime": {
     "end_time": "2024-08-19T07:51:09.459269Z",
     "start_time": "2024-08-19T07:51:09.453717Z"
    }
   },
   "cell_type": "code",
   "source": [
    "def find_relevant_logs(query):\n",
    "    query_vector = vectorizer.transform([query]).toarray().astype('float32')\n",
    "    D, I = index.search(query_vector, 5)\n",
    "    return data.iloc[I[0]]\n",
    "\n",
    "def generate_response(logs):\n",
    "    input_text = \" \".join(\n",
    "           logs.apply(\n",
    "        lambda row: f\"{row['IP Address']} {row['Date']} {row['Request']} {row['Endpoint']} {row['Status Code']} \"\n",
    "                    f\"{row['Response Size']}{row['Time Taken']}\",\n",
    "        axis=1\n",
    "    ).tolist()\n",
    "    )\n",
    "    input_text = input_text[:1000] \n",
    "\n",
    "    input_ids = tokenizer.encode(input_text, return_tensors='pt')\n",
    "    attention_mask = torch.ones(input_ids.shape, dtype=torch.long)\n",
    "\n",
    "    output = model.generate(input_ids, attention_mask=attention_mask, max_new_tokens=50, num_return_sequences=1,\n",
    "                            pad_token_id=tokenizer.eos_token_id)\n",
    "    response = tokenizer.decode(output[0], skip_special_tokens=True)\n",
    "    return response\n",
    "\n",
    "def answer_question(query):\n",
    "    relevant_logs = find_relevant_logs(query)\n",
    "    response = generate_response(relevant_logs)\n",
    "    return response"
   ],
   "id": "6fe8c10b250c17a5",
   "outputs": [],
   "execution_count": 11
  },
  {
   "metadata": {},
   "cell_type": "markdown",
   "source": [
    "Model ve Token\n",
    "- GPT-2 modeli ve tokenizasyonu yüklenmesi"
   ],
   "id": "b99ea16f59788df6"
  },
  {
   "metadata": {
    "ExecuteTime": {
     "end_time": "2024-08-19T07:51:12.859078Z",
     "start_time": "2024-08-19T07:51:11.008291Z"
    }
   },
   "cell_type": "code",
   "source": [
    "model_name = \"gpt2\"\n",
    "model = GPT2LMHeadModel.from_pretrained(model_name)\n",
    "tokenizer = GPT2Tokenizer.from_pretrained(model_name)"
   ],
   "id": "38b9e60d0b08f3bf",
   "outputs": [
    {
     "name": "stderr",
     "output_type": "stream",
     "text": [
      "C:\\Users\\reyiz\\anaconda3\\envs\\NLP\\Lib\\site-packages\\transformers\\tokenization_utils_base.py:1601: FutureWarning: `clean_up_tokenization_spaces` was not set. It will be set to `True` by default. This behavior will be depracted in transformers v4.45, and will be then set to `False` by default. For more details check this issue: https://github.com/huggingface/transformers/issues/31884\n",
      "  warnings.warn(\n"
     ]
    }
   ],
   "execution_count": 12
  },
  {
   "metadata": {},
   "cell_type": "markdown",
   "source": [
    "Test Sorguları Listesi\n",
    "- Modelin test edilmesi için sorguların listesi"
   ],
   "id": "5810570ffdba8c32"
  },
  {
   "metadata": {
    "ExecuteTime": {
     "end_time": "2024-08-19T07:51:14.091045Z",
     "start_time": "2024-08-19T07:51:14.087754Z"
    }
   },
   "cell_type": "code",
   "source": [
    "# Test Sorguları Listesi\n",
    "queries = [\n",
    "    \"Son 24 saatte hangi URL'ler 500 hatası aldı?\",\n",
    "    \"Son bir ayda hangi IP adresleri en fazla 403 hatası aldı?\",\n",
    "    \"Son bir yıl içinde en sık kullanılan POST isteklerinin listesi nedir?\",\n",
    "    \"Son 30 gün içinde hangi tarayıcılar en fazla 404 hatası aldı?\",\n",
    "    \"Son haftada hangi endpoint'ler en yüksek Response Size'a sahipti?\",\n",
    "    \"En son 10 istekte hangi User Agent'lar kullanıldı?\",\n",
    "    \"En yüksek zaman alımı (Time Taken) olan 5 istek nedir?\",\n",
    "    \"Son 6 ayda hangi Referrer en çok ziyaret edildi?\",\n",
    "    \"Son 24 saatte hangi Endpoint'lerde 502 hatası alındı?\",\n",
    "    \"Hangi IP adresleri en uzun süre GET isteği yaptı?\",\n",
    "    \"Which IP adress has Longest GET time ?\",\n",
    "]"
   ],
   "id": "f05866b8334ca78",
   "outputs": [],
   "execution_count": 13
  },
  {
   "metadata": {},
   "cell_type": "markdown",
   "source": [
    "Her bir sorguyu test etme\n",
    "- Her bir sorgu için modelin yanıtının gösterilmesi\n",
    "- Sorgu ve yanıtların gösterilmesi"
   ],
   "id": "45491dc6ef19cc00"
  },
  {
   "metadata": {
    "ExecuteTime": {
     "end_time": "2024-08-19T07:51:32.345113Z",
     "start_time": "2024-08-19T07:51:15.562562Z"
    }
   },
   "cell_type": "code",
   "source": [
    "# Her bir sorguyu test etme\n",
    "for query in queries:\n",
    "    print(\"-\" * 80)\n",
    "    print(\"\\n\")\n",
    "    \n",
    "    response = answer_question(query)\n",
    "    print(f\"Sorgu: {query}\")\n",
    "    print(f\"Modelin Yanıtı: {response}\")\n",
    "    print(\"\\n\")\n"
   ],
   "id": "fd1e8d3e760101b2",
   "outputs": [
    {
     "name": "stdout",
     "output_type": "stream",
     "text": [
      "--------------------------------------------------------------------------------\n",
      "\n",
      "\n",
      "Sorgu: Son 24 saatte hangi URL'ler 500 hatası aldı?\n",
      "Modelin Yanıtı: 65.98.111.139 2018-05-23 02:08:16+03:00 GET /usr 500 50821519 119.61.248.76 2018-07-10 02:58:33+03:00 GET /usr 500 49954689 175.246.90.41 2019-08-10 06:56:36+03:00 GET /usr 500 50282310 110.219.143.114 2018-09-07 05:52:47+03:00 GET /usr 500 50974713 138.65.120.154 2019-11-13 01:01:46+03:00 GET /usr 500 4976852 12.132.128.1 2018-09-07 05:52:47+03:00 GET /usr 500 4976852 12.132.128.1 2018-09-07 05:52:47+03:00 GET\n",
      "\n",
      "\n",
      "--------------------------------------------------------------------------------\n",
      "\n",
      "\n",
      "Sorgu: Son bir ayda hangi IP adresleri en fazla 403 hatası aldı?\n",
      "Modelin Yanıtı: 36.247.110.174 2018-05-27 12:49:07+03:00 GET /usr 403 49224051 206.80.85.172 2018-06-12 11:09:40+03:00 GET /usr 403 50144954 111.117.166.35 2019-12-30 02:06:04+03:00 GET /usr 403 50361304 139.53.61.225 2018-09-30 10:00:41+03:00 GET /usr 403 49482547 216.109.15.188 2019-06-23 04:59:09+03:00 GET /usr 403 5050373 216.109.15.188 2019-06-23 04:59:09+03:00 GET /usr 403 5050373 216.109.15.188 2019-06-23 04:59:09+03:00 GET\n",
      "\n",
      "\n",
      "--------------------------------------------------------------------------------\n",
      "\n",
      "\n",
      "Sorgu: Son bir yıl içinde en sık kullanılan POST isteklerinin listesi nedir?\n",
      "Modelin Yanıtı: 123.180.207.135 2019-04-12 06:05:01+03:00 POST /usr 200 4970685 187.114.106.245 2018-06-22 05:39:58+03:00 POST /usr 200 50251152 188.217.229.118 2019-04-08 09:50:24+03:00 POST /usr 200 50251956 223.65.248.169 2019-10-06 08:43:38+03:00 POST /usr 200 49702068 204.131.47.21 2018-08-07 08:52:43+03:00 POST /usr 200 50853698 205.132.47.21 2018-08-07 08:52:43+03:00 POST /usr 200 50853698 205.132.47.21 2018-08-07 08:52:43+03:00\n",
      "\n",
      "\n",
      "--------------------------------------------------------------------------------\n",
      "\n",
      "\n",
      "Sorgu: Son 30 gün içinde hangi tarayıcılar en fazla 404 hatası aldı?\n",
      "Modelin Yanıtı: 61.214.229.195 2018-10-10 06:55:16+03:00 GET /usr 404 49703715 80.34.145.203 2018-05-17 01:11:42+03:00 GET /usr 404 5043936 108.177.9.22 2018-05-15 08:36:06+03:00 GET /usr 404 50173356 50.146.75.249 2018-10-16 09:41:35+03:00 GET /usr 404 50133614 99.234.248.141 2019-11-22 12:23:06+03:00 GET /usr 404 48923907 100.0.0.0 2018-10-16 09:41:35+03:00 GET /usr 404 49703715 100.0.0.0 2018-05-17 01:11:42+03:00\n",
      "\n",
      "\n",
      "--------------------------------------------------------------------------------\n",
      "\n",
      "\n",
      "Sorgu: Son haftada hangi endpoint'ler en yüksek Response Size'a sahipti?\n",
      "Modelin Yanıtı: 7.66.79.176 2018-09-26 09:36:50+03:00 DELETE /usr/register 502 50643814 14.190.86.33 2018-05-13 02:58:36+03:00 POST /usr/login 304 49383685 42.159.90.156 2019-09-27 07:08:52+03:00 POST /usr/login 304 50492631 75.57.81.137 2018-01-17 12:49:54+03:00 DELETE /usr/register 502 50412314 167.248.233.37 2019-04-06 01:22:24+03:00 POST /usr/login 304 50679560 75.57.81.137 2018-01-17 12:49:54+03:00 POST /usr/login 304 50679560 75.57.81.137 2018-01-17 12:49:54+\n",
      "\n",
      "\n",
      "--------------------------------------------------------------------------------\n",
      "\n",
      "\n",
      "Sorgu: En son 10 istekte hangi User Agent'lar kullanıldı?\n",
      "Modelin Yanıtı: 7.66.79.176 2018-09-26 09:36:50+03:00 DELETE /usr/register 502 50643814 14.190.86.33 2018-05-13 02:58:36+03:00 POST /usr/login 304 49383685 42.159.90.156 2019-09-27 07:08:52+03:00 POST /usr/login 304 50492631 75.57.81.137 2018-01-17 12:49:54+03:00 DELETE /usr/register 502 50412314 167.248.233.37 2019-04-06 01:22:24+03:00 POST /usr/login 304 50679560 75.57.81.137 2018-01-17 12:49:54+03:00 POST /usr/login 304 50679560 75.57.81.137 2018-01-17 12:49:54+\n",
      "\n",
      "\n",
      "--------------------------------------------------------------------------------\n",
      "\n",
      "\n",
      "Sorgu: En yüksek zaman alımı (Time Taken) olan 5 istek nedir?\n",
      "Modelin Yanıtı: 7.66.79.176 2018-09-26 09:36:50+03:00 DELETE /usr/register 502 50643814 14.190.86.33 2018-05-13 02:58:36+03:00 POST /usr/login 304 49383685 42.159.90.156 2019-09-27 07:08:52+03:00 POST /usr/login 304 50492631 75.57.81.137 2018-01-17 12:49:54+03:00 DELETE /usr/register 502 50412314 167.248.233.37 2019-04-06 01:22:24+03:00 POST /usr/login 304 50679560 75.57.81.137 2018-01-17 12:49:54+03:00 POST /usr/login 304 50679560 75.57.81.137 2018-01-17 12:49:54+\n",
      "\n",
      "\n",
      "--------------------------------------------------------------------------------\n",
      "\n",
      "\n",
      "Sorgu: Son 6 ayda hangi Referrer en çok ziyaret edildi?\n",
      "Modelin Yanıtı: 7.66.79.176 2018-09-26 09:36:50+03:00 DELETE /usr/register 502 50643814 14.190.86.33 2018-05-13 02:58:36+03:00 POST /usr/login 304 49383685 42.159.90.156 2019-09-27 07:08:52+03:00 POST /usr/login 304 50492631 75.57.81.137 2018-01-17 12:49:54+03:00 DELETE /usr/register 502 50412314 167.248.233.37 2019-04-06 01:22:24+03:00 POST /usr/login 304 50679560 75.57.81.137 2018-01-17 12:49:54+03:00 POST /usr/login 304 50679560 75.57.81.137 2018-01-17 12:49:54+\n",
      "\n",
      "\n",
      "--------------------------------------------------------------------------------\n",
      "\n",
      "\n",
      "Sorgu: Son 24 saatte hangi Endpoint'lerde 502 hatası alındı?\n",
      "Modelin Yanıtı: 16.164.228.67 2018-04-16 10:17:39+03:00 GET /usr 502 49762727 222.3.193.35 2019-06-13 12:40:10+03:00 GET /usr 502 50031973 199.55.135.141 2019-09-29 01:59:52+03:00 GET /usr 502 5017251 26.215.39.46 2019-05-09 02:45:53+03:00 GET /usr 502 49861949 164.137.175.45 2018-11-20 10:13:39+03:00 GET /usr 502 50111669 20.212.194.22 2018-11-20 10:13:39+03:00 GET /usr 502 50111669 20.212.194.22 2018-11-20 10:13:39+03:00 GET\n",
      "\n",
      "\n",
      "--------------------------------------------------------------------------------\n",
      "\n",
      "\n",
      "Sorgu: Hangi IP adresleri en uzun süre GET isteği yaptı?\n",
      "Modelin Yanıtı: 14.137.170.50 2019-10-29 01:36:28+03:00 GET /usr 200 5034345 147.40.63.62 2019-06-20 06:28:58+03:00 GET /usr 200 49112935 183.157.87.207 2019-02-26 07:32:10+03:00 GET /usr 200 50452668 79.190.243.233 2019-04-04 04:39:15+03:00 GET /usr 200 49962368 9.124.128.11 2018-12-17 11:03:00+03:00 GET /usr 200 49774076 9.124.128.11 2018-12-17 11:03:00+03:00 GET /usr 200 49972368 9.124.128.11 2018-12-17 11:03:00+03:00\n",
      "\n",
      "\n",
      "--------------------------------------------------------------------------------\n",
      "\n",
      "\n",
      "Sorgu: Which IP adress has Longest GET time ?\n",
      "Modelin Yanıtı: 14.137.170.50 2019-10-29 01:36:28+03:00 GET /usr 200 5034345 147.40.63.62 2019-06-20 06:28:58+03:00 GET /usr 200 49112935 183.157.87.207 2019-02-26 07:32:10+03:00 GET /usr 200 50452668 79.190.243.233 2019-04-04 04:39:15+03:00 GET /usr 200 49962368 9.124.128.11 2018-12-17 11:03:00+03:00 GET /usr 200 49774076 9.124.128.11 2018-12-17 11:03:00+03:00 GET /usr 200 49972368 9.124.128.11 2018-12-17 11:03:00+03:00\n",
      "\n",
      "\n"
     ]
    }
   ],
   "execution_count": 14
  },
  {
   "metadata": {},
   "cell_type": "markdown",
   "source": "Sorgular ile üretilen yanıtlar arasında bir ilişki olduğu gözlenmekte olup, modelin verileri doğru bir şekilde işlediği görülmektedir.",
   "id": "525a1f5802efbe31"
  }
 ],
 "metadata": {
  "kernelspec": {
   "display_name": "Python 3",
   "language": "python",
   "name": "python3"
  },
  "language_info": {
   "codemirror_mode": {
    "name": "ipython",
    "version": 2
   },
   "file_extension": ".py",
   "mimetype": "text/x-python",
   "name": "python",
   "nbconvert_exporter": "python",
   "pygments_lexer": "ipython2",
   "version": "2.7.6"
  }
 },
 "nbformat": 4,
 "nbformat_minor": 5
}
