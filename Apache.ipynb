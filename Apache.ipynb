{
 "cells": [
  {
   "metadata": {},
   "cell_type": "markdown",
   "source": "# Importing Libraries",
   "id": "eb5ca1d4f3371fc7"
  },
  {
   "cell_type": "code",
   "id": "initial_id",
   "metadata": {
    "collapsed": true,
    "ExecuteTime": {
     "end_time": "2024-08-14T13:34:03.145522Z",
     "start_time": "2024-08-14T13:34:03.142192Z"
    }
   },
   "source": "import pandas as pd",
   "outputs": [],
   "execution_count": 89
  },
  {
   "metadata": {},
   "cell_type": "markdown",
   "source": "# Importing Data",
   "id": "d9159adf20ea108f"
  },
  {
   "metadata": {
    "ExecuteTime": {
     "end_time": "2024-08-14T13:38:48.137369Z",
     "start_time": "2024-08-14T13:38:46.319312Z"
    }
   },
   "cell_type": "code",
   "source": [
    "data = pd.read_csv('data/apache/data.csv')\n",
    "data.head()"
   ],
   "id": "a152113ded44cee3",
   "outputs": [
    {
     "data": {
      "text/plain": [
       "        IP Address                          Date Request  \\\n",
       "0     56.81.94.161  [24/Nov/2019:03:03:30 +0300]     GET   \n",
       "1  117.144.149.150  [09/Mar/2018:03:07:53 +0300]    POST   \n",
       "2   107.193.107.50  [14/Jun/2019:01:16:10 +0300]  DELETE   \n",
       "3    149.25.240.57  [02/Jan/2019:03:14:05 +0300]     PUT   \n",
       "4    38.186.148.29  [29/Apr/2019:12:24:51 +0300]  DELETE   \n",
       "\n",
       "               Endpoint  Status Code  Response Size  \\\n",
       "0            /usr/admin          502           5014   \n",
       "1            /usr/login          500           5012   \n",
       "2  /usr/admin/developer          200           5002   \n",
       "3  /usr/admin/developer          200           4905   \n",
       "4         /usr/register          502           4953   \n",
       "\n",
       "                                                  Referrer  \\\n",
       "0  https://www.hill.com/main/posts/categoriescategory.html   \n",
       "1                                                        -   \n",
       "2  https://www.hill.com/main/posts/categoriescategory.html   \n",
       "3  https://www.hill.com/main/posts/categoriescategory.html   \n",
       "4  https://www.hill.com/main/posts/categoriescategory.html   \n",
       "\n",
       "                                                                                                                                            User Agent  \\\n",
       "0                                  Mozilla/5.0 (Windows NT 10.0; Win64; x64) AppleWebKit/537.36 (KHTML, like Gecko) Chrome/87.0.4280.141 Safari/537.36   \n",
       "1    Mozilla/5.0 (Linux; Android 10; ONEPLUS A6000) AppleWebKit/537.36 (KHTML, like Gecko) Chrome/77.0.3865.116 Mobile Safari/537.36 EdgA/45.12.4.5121   \n",
       "2  Mozilla/5.0 (Linux; Android 10; ONEPLUS A6000) AppleWebKit/537.36 (KHTML, like Gecko) Chrome/86.0.4240.198 Mobile Safari/537.36 OPR/61.2.3076.56749   \n",
       "3                     Mozilla/5.0 (Windows NT 10.0; Win64; x64) AppleWebKit/537.36 (KHTML, like Gecko) Chrome/89.0.4380.0 Safari/537.36 Edg/89.0.759.0   \n",
       "4                      Mozilla/5.0 (Linux; Android 10; ONEPLUS A6000) AppleWebKit/537.36 (KHTML, like Gecko) Chrome/87.0.4280.141 Mobile Safari/537.36   \n",
       "\n",
       "   Time Taken  \n",
       "0         507  \n",
       "1         151  \n",
       "2        2085  \n",
       "3        4896  \n",
       "4        3236  "
      ],
      "text/html": [
       "<div>\n",
       "<style scoped>\n",
       "    .dataframe tbody tr th:only-of-type {\n",
       "        vertical-align: middle;\n",
       "    }\n",
       "\n",
       "    .dataframe tbody tr th {\n",
       "        vertical-align: top;\n",
       "    }\n",
       "\n",
       "    .dataframe thead th {\n",
       "        text-align: right;\n",
       "    }\n",
       "</style>\n",
       "<table border=\"1\" class=\"dataframe\">\n",
       "  <thead>\n",
       "    <tr style=\"text-align: right;\">\n",
       "      <th></th>\n",
       "      <th>IP Address</th>\n",
       "      <th>Date</th>\n",
       "      <th>Request</th>\n",
       "      <th>Endpoint</th>\n",
       "      <th>Status Code</th>\n",
       "      <th>Response Size</th>\n",
       "      <th>Referrer</th>\n",
       "      <th>User Agent</th>\n",
       "      <th>Time Taken</th>\n",
       "    </tr>\n",
       "  </thead>\n",
       "  <tbody>\n",
       "    <tr>\n",
       "      <th>0</th>\n",
       "      <td>56.81.94.161</td>\n",
       "      <td>[24/Nov/2019:03:03:30 +0300]</td>\n",
       "      <td>GET</td>\n",
       "      <td>/usr/admin</td>\n",
       "      <td>502</td>\n",
       "      <td>5014</td>\n",
       "      <td>https://www.hill.com/main/posts/categoriescategory.html</td>\n",
       "      <td>Mozilla/5.0 (Windows NT 10.0; Win64; x64) AppleWebKit/537.36 (KHTML, like Gecko) Chrome/87.0.4280.141 Safari/537.36</td>\n",
       "      <td>507</td>\n",
       "    </tr>\n",
       "    <tr>\n",
       "      <th>1</th>\n",
       "      <td>117.144.149.150</td>\n",
       "      <td>[09/Mar/2018:03:07:53 +0300]</td>\n",
       "      <td>POST</td>\n",
       "      <td>/usr/login</td>\n",
       "      <td>500</td>\n",
       "      <td>5012</td>\n",
       "      <td>-</td>\n",
       "      <td>Mozilla/5.0 (Linux; Android 10; ONEPLUS A6000) AppleWebKit/537.36 (KHTML, like Gecko) Chrome/77.0.3865.116 Mobile Safari/537.36 EdgA/45.12.4.5121</td>\n",
       "      <td>151</td>\n",
       "    </tr>\n",
       "    <tr>\n",
       "      <th>2</th>\n",
       "      <td>107.193.107.50</td>\n",
       "      <td>[14/Jun/2019:01:16:10 +0300]</td>\n",
       "      <td>DELETE</td>\n",
       "      <td>/usr/admin/developer</td>\n",
       "      <td>200</td>\n",
       "      <td>5002</td>\n",
       "      <td>https://www.hill.com/main/posts/categoriescategory.html</td>\n",
       "      <td>Mozilla/5.0 (Linux; Android 10; ONEPLUS A6000) AppleWebKit/537.36 (KHTML, like Gecko) Chrome/86.0.4240.198 Mobile Safari/537.36 OPR/61.2.3076.56749</td>\n",
       "      <td>2085</td>\n",
       "    </tr>\n",
       "    <tr>\n",
       "      <th>3</th>\n",
       "      <td>149.25.240.57</td>\n",
       "      <td>[02/Jan/2019:03:14:05 +0300]</td>\n",
       "      <td>PUT</td>\n",
       "      <td>/usr/admin/developer</td>\n",
       "      <td>200</td>\n",
       "      <td>4905</td>\n",
       "      <td>https://www.hill.com/main/posts/categoriescategory.html</td>\n",
       "      <td>Mozilla/5.0 (Windows NT 10.0; Win64; x64) AppleWebKit/537.36 (KHTML, like Gecko) Chrome/89.0.4380.0 Safari/537.36 Edg/89.0.759.0</td>\n",
       "      <td>4896</td>\n",
       "    </tr>\n",
       "    <tr>\n",
       "      <th>4</th>\n",
       "      <td>38.186.148.29</td>\n",
       "      <td>[29/Apr/2019:12:24:51 +0300]</td>\n",
       "      <td>DELETE</td>\n",
       "      <td>/usr/register</td>\n",
       "      <td>502</td>\n",
       "      <td>4953</td>\n",
       "      <td>https://www.hill.com/main/posts/categoriescategory.html</td>\n",
       "      <td>Mozilla/5.0 (Linux; Android 10; ONEPLUS A6000) AppleWebKit/537.36 (KHTML, like Gecko) Chrome/87.0.4280.141 Mobile Safari/537.36</td>\n",
       "      <td>3236</td>\n",
       "    </tr>\n",
       "  </tbody>\n",
       "</table>\n",
       "</div>"
      ]
     },
     "execution_count": 105,
     "metadata": {},
     "output_type": "execute_result"
    }
   ],
   "execution_count": 105
  },
  {
   "metadata": {
    "ExecuteTime": {
     "end_time": "2024-08-14T13:38:48.243924Z",
     "start_time": "2024-08-14T13:38:48.163178Z"
    }
   },
   "cell_type": "code",
   "source": "data.describe()",
   "id": "2034f77e087f42c3",
   "outputs": [
    {
     "data": {
      "text/plain": [
       "          Status Code   Response Size      Time Taken\n",
       "count  1000000.000000  1000000.000000  1000000.000000\n",
       "mean       373.747231     4999.478885     2500.162185\n",
       "std        102.920869       49.984650     1443.310076\n",
       "min        200.000000     4763.000000        1.000000\n",
       "25%        303.000000     4966.000000     1249.000000\n",
       "50%        403.000000     4999.000000     2501.000000\n",
       "75%        500.000000     5033.000000     3749.000000\n",
       "max        502.000000     5230.000000     5000.000000"
      ],
      "text/html": [
       "<div>\n",
       "<style scoped>\n",
       "    .dataframe tbody tr th:only-of-type {\n",
       "        vertical-align: middle;\n",
       "    }\n",
       "\n",
       "    .dataframe tbody tr th {\n",
       "        vertical-align: top;\n",
       "    }\n",
       "\n",
       "    .dataframe thead th {\n",
       "        text-align: right;\n",
       "    }\n",
       "</style>\n",
       "<table border=\"1\" class=\"dataframe\">\n",
       "  <thead>\n",
       "    <tr style=\"text-align: right;\">\n",
       "      <th></th>\n",
       "      <th>Status Code</th>\n",
       "      <th>Response Size</th>\n",
       "      <th>Time Taken</th>\n",
       "    </tr>\n",
       "  </thead>\n",
       "  <tbody>\n",
       "    <tr>\n",
       "      <th>count</th>\n",
       "      <td>1000000.000000</td>\n",
       "      <td>1000000.000000</td>\n",
       "      <td>1000000.000000</td>\n",
       "    </tr>\n",
       "    <tr>\n",
       "      <th>mean</th>\n",
       "      <td>373.747231</td>\n",
       "      <td>4999.478885</td>\n",
       "      <td>2500.162185</td>\n",
       "    </tr>\n",
       "    <tr>\n",
       "      <th>std</th>\n",
       "      <td>102.920869</td>\n",
       "      <td>49.984650</td>\n",
       "      <td>1443.310076</td>\n",
       "    </tr>\n",
       "    <tr>\n",
       "      <th>min</th>\n",
       "      <td>200.000000</td>\n",
       "      <td>4763.000000</td>\n",
       "      <td>1.000000</td>\n",
       "    </tr>\n",
       "    <tr>\n",
       "      <th>25%</th>\n",
       "      <td>303.000000</td>\n",
       "      <td>4966.000000</td>\n",
       "      <td>1249.000000</td>\n",
       "    </tr>\n",
       "    <tr>\n",
       "      <th>50%</th>\n",
       "      <td>403.000000</td>\n",
       "      <td>4999.000000</td>\n",
       "      <td>2501.000000</td>\n",
       "    </tr>\n",
       "    <tr>\n",
       "      <th>75%</th>\n",
       "      <td>500.000000</td>\n",
       "      <td>5033.000000</td>\n",
       "      <td>3749.000000</td>\n",
       "    </tr>\n",
       "    <tr>\n",
       "      <th>max</th>\n",
       "      <td>502.000000</td>\n",
       "      <td>5230.000000</td>\n",
       "      <td>5000.000000</td>\n",
       "    </tr>\n",
       "  </tbody>\n",
       "</table>\n",
       "</div>"
      ]
     },
     "execution_count": 106,
     "metadata": {},
     "output_type": "execute_result"
    }
   ],
   "execution_count": 106
  },
  {
   "metadata": {
    "ExecuteTime": {
     "end_time": "2024-08-14T13:38:48.571657Z",
     "start_time": "2024-08-14T13:38:48.421601Z"
    }
   },
   "cell_type": "code",
   "source": "data.info()",
   "id": "65234ec500f16e6e",
   "outputs": [
    {
     "name": "stdout",
     "output_type": "stream",
     "text": [
      "<class 'pandas.core.frame.DataFrame'>\n",
      "RangeIndex: 1000000 entries, 0 to 999999\n",
      "Data columns (total 9 columns):\n",
      " #   Column         Non-Null Count    Dtype \n",
      "---  ------         --------------    ----- \n",
      " 0   IP Address     1000000 non-null  object\n",
      " 1   Date           1000000 non-null  object\n",
      " 2   Request        1000000 non-null  object\n",
      " 3   Endpoint       1000000 non-null  object\n",
      " 4   Status Code    1000000 non-null  int64 \n",
      " 5   Response Size  1000000 non-null  int64 \n",
      " 6   Referrer       1000000 non-null  object\n",
      " 7   User Agent     1000000 non-null  object\n",
      " 8   Time Taken     1000000 non-null  int64 \n",
      "dtypes: int64(3), object(6)\n",
      "memory usage: 68.7+ MB\n"
     ]
    }
   ],
   "execution_count": 107
  },
  {
   "metadata": {},
   "cell_type": "markdown",
   "source": "# Data Preprocessing",
   "id": "565047f5a256cbcc"
  },
  {
   "metadata": {
    "ExecuteTime": {
     "end_time": "2024-08-14T13:38:57.421648Z",
     "start_time": "2024-08-14T13:38:49.302915Z"
    }
   },
   "cell_type": "code",
   "source": [
    "# Date sütununu datetime formatına dönüştürme\n",
    "data['Date'] = pd.to_datetime(data['Date'], format='[%d/%b/%Y:%H:%M:%S %z]')\n",
    "\n",
    "# Dönüşümün başarılı olup olmadığını kontrol etmek için ilk birkaç satıra bakalım\n",
    "data['Date'].head()"
   ],
   "id": "3da12b005cdc465e",
   "outputs": [
    {
     "data": {
      "text/plain": [
       "0   2019-11-24 03:03:30+03:00\n",
       "1   2018-03-09 03:07:53+03:00\n",
       "2   2019-06-14 01:16:10+03:00\n",
       "3   2019-01-02 03:14:05+03:00\n",
       "4   2019-04-29 12:24:51+03:00\n",
       "Name: Date, dtype: datetime64[ns, UTC+03:00]"
      ]
     },
     "execution_count": 108,
     "metadata": {},
     "output_type": "execute_result"
    }
   ],
   "execution_count": 108
  },
  {
   "metadata": {
    "ExecuteTime": {
     "end_time": "2024-08-14T13:38:57.554767Z",
     "start_time": "2024-08-14T13:38:57.446504Z"
    }
   },
   "cell_type": "code",
   "source": [
    "# Eksik verilerin kontrolü\n",
    "missing_values = data.isnull().sum()\n",
    "print(missing_values)\n",
    "\n",
    "# Eksik veri oranlarını da görebilmek için\n",
    "missing_percent = (missing_values / len(data)) * 100\n",
    "print(missing_percent)\n"
   ],
   "id": "949fe5c3f70afaa7",
   "outputs": [
    {
     "name": "stdout",
     "output_type": "stream",
     "text": [
      "IP Address       0\n",
      "Date             0\n",
      "Request          0\n",
      "Endpoint         0\n",
      "Status Code      0\n",
      "Response Size    0\n",
      "Referrer         0\n",
      "User Agent       0\n",
      "Time Taken       0\n",
      "dtype: int64\n",
      "IP Address       0.0\n",
      "Date             0.0\n",
      "Request          0.0\n",
      "Endpoint         0.0\n",
      "Status Code      0.0\n",
      "Response Size    0.0\n",
      "Referrer         0.0\n",
      "User Agent       0.0\n",
      "Time Taken       0.0\n",
      "dtype: float64\n"
     ]
    }
   ],
   "execution_count": 109
  },
  {
   "metadata": {
    "ExecuteTime": {
     "end_time": "2024-08-14T13:38:57.653279Z",
     "start_time": "2024-08-14T13:38:57.627458Z"
    }
   },
   "cell_type": "code",
   "source": [
    "# Gereksiz sütunları kaldırma\n",
    "data = data.drop(columns=['Referrer', 'User Agent'])\n",
    "\n",
    "# Kaldırma işleminden sonra veri setinin ilk birkaç satırına bakalım\n",
    "data.head()\n"
   ],
   "id": "f6357ff2ab6ed49b",
   "outputs": [
    {
     "data": {
      "text/plain": [
       "        IP Address                      Date Request              Endpoint  \\\n",
       "0     56.81.94.161 2019-11-24 03:03:30+03:00     GET            /usr/admin   \n",
       "1  117.144.149.150 2018-03-09 03:07:53+03:00    POST            /usr/login   \n",
       "2   107.193.107.50 2019-06-14 01:16:10+03:00  DELETE  /usr/admin/developer   \n",
       "3    149.25.240.57 2019-01-02 03:14:05+03:00     PUT  /usr/admin/developer   \n",
       "4    38.186.148.29 2019-04-29 12:24:51+03:00  DELETE         /usr/register   \n",
       "\n",
       "   Status Code  Response Size  Time Taken  \n",
       "0          502           5014         507  \n",
       "1          500           5012         151  \n",
       "2          200           5002        2085  \n",
       "3          200           4905        4896  \n",
       "4          502           4953        3236  "
      ],
      "text/html": [
       "<div>\n",
       "<style scoped>\n",
       "    .dataframe tbody tr th:only-of-type {\n",
       "        vertical-align: middle;\n",
       "    }\n",
       "\n",
       "    .dataframe tbody tr th {\n",
       "        vertical-align: top;\n",
       "    }\n",
       "\n",
       "    .dataframe thead th {\n",
       "        text-align: right;\n",
       "    }\n",
       "</style>\n",
       "<table border=\"1\" class=\"dataframe\">\n",
       "  <thead>\n",
       "    <tr style=\"text-align: right;\">\n",
       "      <th></th>\n",
       "      <th>IP Address</th>\n",
       "      <th>Date</th>\n",
       "      <th>Request</th>\n",
       "      <th>Endpoint</th>\n",
       "      <th>Status Code</th>\n",
       "      <th>Response Size</th>\n",
       "      <th>Time Taken</th>\n",
       "    </tr>\n",
       "  </thead>\n",
       "  <tbody>\n",
       "    <tr>\n",
       "      <th>0</th>\n",
       "      <td>56.81.94.161</td>\n",
       "      <td>2019-11-24 03:03:30+03:00</td>\n",
       "      <td>GET</td>\n",
       "      <td>/usr/admin</td>\n",
       "      <td>502</td>\n",
       "      <td>5014</td>\n",
       "      <td>507</td>\n",
       "    </tr>\n",
       "    <tr>\n",
       "      <th>1</th>\n",
       "      <td>117.144.149.150</td>\n",
       "      <td>2018-03-09 03:07:53+03:00</td>\n",
       "      <td>POST</td>\n",
       "      <td>/usr/login</td>\n",
       "      <td>500</td>\n",
       "      <td>5012</td>\n",
       "      <td>151</td>\n",
       "    </tr>\n",
       "    <tr>\n",
       "      <th>2</th>\n",
       "      <td>107.193.107.50</td>\n",
       "      <td>2019-06-14 01:16:10+03:00</td>\n",
       "      <td>DELETE</td>\n",
       "      <td>/usr/admin/developer</td>\n",
       "      <td>200</td>\n",
       "      <td>5002</td>\n",
       "      <td>2085</td>\n",
       "    </tr>\n",
       "    <tr>\n",
       "      <th>3</th>\n",
       "      <td>149.25.240.57</td>\n",
       "      <td>2019-01-02 03:14:05+03:00</td>\n",
       "      <td>PUT</td>\n",
       "      <td>/usr/admin/developer</td>\n",
       "      <td>200</td>\n",
       "      <td>4905</td>\n",
       "      <td>4896</td>\n",
       "    </tr>\n",
       "    <tr>\n",
       "      <th>4</th>\n",
       "      <td>38.186.148.29</td>\n",
       "      <td>2019-04-29 12:24:51+03:00</td>\n",
       "      <td>DELETE</td>\n",
       "      <td>/usr/register</td>\n",
       "      <td>502</td>\n",
       "      <td>4953</td>\n",
       "      <td>3236</td>\n",
       "    </tr>\n",
       "  </tbody>\n",
       "</table>\n",
       "</div>"
      ]
     },
     "execution_count": 110,
     "metadata": {},
     "output_type": "execute_result"
    }
   ],
   "execution_count": 110
  },
  {
   "metadata": {
    "ExecuteTime": {
     "end_time": "2024-08-14T13:38:59.214082Z",
     "start_time": "2024-08-14T13:38:59.021843Z"
    }
   },
   "cell_type": "code",
   "source": [
    "# Yeni özellikler ekleme: Yıl, Ay, Gün, Saat, Dakika, vs.\n",
    "data['Year'] = data['Date'].dt.year\n",
    "data['Month'] = data['Date'].dt.month\n",
    "data['Day'] = data['Date'].dt.day\n",
    "data['Hour'] = data['Date'].dt.hour\n",
    "data['Minute'] = data['Date'].dt.minute\n",
    "\n",
    "# Yeni özellikleri kontrol edelim\n",
    "data.head()"
   ],
   "id": "d663142ea2332d07",
   "outputs": [
    {
     "data": {
      "text/plain": [
       "        IP Address                      Date Request              Endpoint  \\\n",
       "0     56.81.94.161 2019-11-24 03:03:30+03:00     GET            /usr/admin   \n",
       "1  117.144.149.150 2018-03-09 03:07:53+03:00    POST            /usr/login   \n",
       "2   107.193.107.50 2019-06-14 01:16:10+03:00  DELETE  /usr/admin/developer   \n",
       "3    149.25.240.57 2019-01-02 03:14:05+03:00     PUT  /usr/admin/developer   \n",
       "4    38.186.148.29 2019-04-29 12:24:51+03:00  DELETE         /usr/register   \n",
       "\n",
       "   Status Code  Response Size  Time Taken  Year  Month  Day  Hour  Minute  \n",
       "0          502           5014         507  2019     11   24     3       3  \n",
       "1          500           5012         151  2018      3    9     3       7  \n",
       "2          200           5002        2085  2019      6   14     1      16  \n",
       "3          200           4905        4896  2019      1    2     3      14  \n",
       "4          502           4953        3236  2019      4   29    12      24  "
      ],
      "text/html": [
       "<div>\n",
       "<style scoped>\n",
       "    .dataframe tbody tr th:only-of-type {\n",
       "        vertical-align: middle;\n",
       "    }\n",
       "\n",
       "    .dataframe tbody tr th {\n",
       "        vertical-align: top;\n",
       "    }\n",
       "\n",
       "    .dataframe thead th {\n",
       "        text-align: right;\n",
       "    }\n",
       "</style>\n",
       "<table border=\"1\" class=\"dataframe\">\n",
       "  <thead>\n",
       "    <tr style=\"text-align: right;\">\n",
       "      <th></th>\n",
       "      <th>IP Address</th>\n",
       "      <th>Date</th>\n",
       "      <th>Request</th>\n",
       "      <th>Endpoint</th>\n",
       "      <th>Status Code</th>\n",
       "      <th>Response Size</th>\n",
       "      <th>Time Taken</th>\n",
       "      <th>Year</th>\n",
       "      <th>Month</th>\n",
       "      <th>Day</th>\n",
       "      <th>Hour</th>\n",
       "      <th>Minute</th>\n",
       "    </tr>\n",
       "  </thead>\n",
       "  <tbody>\n",
       "    <tr>\n",
       "      <th>0</th>\n",
       "      <td>56.81.94.161</td>\n",
       "      <td>2019-11-24 03:03:30+03:00</td>\n",
       "      <td>GET</td>\n",
       "      <td>/usr/admin</td>\n",
       "      <td>502</td>\n",
       "      <td>5014</td>\n",
       "      <td>507</td>\n",
       "      <td>2019</td>\n",
       "      <td>11</td>\n",
       "      <td>24</td>\n",
       "      <td>3</td>\n",
       "      <td>3</td>\n",
       "    </tr>\n",
       "    <tr>\n",
       "      <th>1</th>\n",
       "      <td>117.144.149.150</td>\n",
       "      <td>2018-03-09 03:07:53+03:00</td>\n",
       "      <td>POST</td>\n",
       "      <td>/usr/login</td>\n",
       "      <td>500</td>\n",
       "      <td>5012</td>\n",
       "      <td>151</td>\n",
       "      <td>2018</td>\n",
       "      <td>3</td>\n",
       "      <td>9</td>\n",
       "      <td>3</td>\n",
       "      <td>7</td>\n",
       "    </tr>\n",
       "    <tr>\n",
       "      <th>2</th>\n",
       "      <td>107.193.107.50</td>\n",
       "      <td>2019-06-14 01:16:10+03:00</td>\n",
       "      <td>DELETE</td>\n",
       "      <td>/usr/admin/developer</td>\n",
       "      <td>200</td>\n",
       "      <td>5002</td>\n",
       "      <td>2085</td>\n",
       "      <td>2019</td>\n",
       "      <td>6</td>\n",
       "      <td>14</td>\n",
       "      <td>1</td>\n",
       "      <td>16</td>\n",
       "    </tr>\n",
       "    <tr>\n",
       "      <th>3</th>\n",
       "      <td>149.25.240.57</td>\n",
       "      <td>2019-01-02 03:14:05+03:00</td>\n",
       "      <td>PUT</td>\n",
       "      <td>/usr/admin/developer</td>\n",
       "      <td>200</td>\n",
       "      <td>4905</td>\n",
       "      <td>4896</td>\n",
       "      <td>2019</td>\n",
       "      <td>1</td>\n",
       "      <td>2</td>\n",
       "      <td>3</td>\n",
       "      <td>14</td>\n",
       "    </tr>\n",
       "    <tr>\n",
       "      <th>4</th>\n",
       "      <td>38.186.148.29</td>\n",
       "      <td>2019-04-29 12:24:51+03:00</td>\n",
       "      <td>DELETE</td>\n",
       "      <td>/usr/register</td>\n",
       "      <td>502</td>\n",
       "      <td>4953</td>\n",
       "      <td>3236</td>\n",
       "      <td>2019</td>\n",
       "      <td>4</td>\n",
       "      <td>29</td>\n",
       "      <td>12</td>\n",
       "      <td>24</td>\n",
       "    </tr>\n",
       "  </tbody>\n",
       "</table>\n",
       "</div>"
      ]
     },
     "execution_count": 111,
     "metadata": {},
     "output_type": "execute_result"
    }
   ],
   "execution_count": 111
  },
  {
   "metadata": {
    "ExecuteTime": {
     "end_time": "2024-08-14T13:39:02.551438Z",
     "start_time": "2024-08-14T13:38:59.727110Z"
    }
   },
   "cell_type": "code",
   "source": [
    "from sklearn.feature_extraction.text import TfidfVectorizer\n",
    "\n",
    "# Endpoint ve Request sütunlarını metin verisi olarak kullanacağız\n",
    "texts = data['Endpoint'] + ' ' + data['Request']\n",
    "\n",
    "# TF-IDF vektörizeri oluşturma ve veriyi dönüştürme\n",
    "vectorizer = TfidfVectorizer()\n",
    "X = vectorizer.fit_transform(texts)\n",
    "\n",
    "# X to numpy array\n",
    "X = X.toarray()\n",
    "X"
   ],
   "id": "75b79defdd74a2cb",
   "outputs": [
    {
     "data": {
      "text/plain": [
       "array([[0.59466222, 0.        , 0.        , ..., 0.        , 0.        ,\n",
       "        0.31052168],\n",
       "       [0.        , 0.        , 0.        , ..., 0.        , 0.        ,\n",
       "        0.27205541],\n",
       "       [0.46266636, 0.57545841, 0.62961805, ..., 0.        , 0.        ,\n",
       "        0.24159587],\n",
       "       ...,\n",
       "       [0.        , 0.64855267, 0.        , ..., 0.        , 0.        ,\n",
       "        0.27228318],\n",
       "       [0.        , 0.        , 0.        , ..., 0.        , 0.        ,\n",
       "        0.3862327 ],\n",
       "       [0.46236156, 0.        , 0.62920328, ..., 0.        , 0.        ,\n",
       "        0.24143671]])"
      ]
     },
     "execution_count": 112,
     "metadata": {},
     "output_type": "execute_result"
    }
   ],
   "execution_count": 112
  },
  {
   "metadata": {},
   "cell_type": "markdown",
   "source": "Faiss",
   "id": "5118e38a85ddd7a8"
  },
  {
   "metadata": {
    "ExecuteTime": {
     "end_time": "2024-08-14T13:40:13.725185Z",
     "start_time": "2024-08-14T13:40:13.715145Z"
    }
   },
   "cell_type": "code",
   "source": [
    "import numpy as np\n",
    "\n",
    "# X'in türünü ve veri tipini kontrol edin\n",
    "print(type(X))  # Bu 'numpy.ndarray' olmalı\n",
    "print(X.dtype)  # Bu 'float32' olmalı\n",
    "\n",
    "# X'i 'float32' veri tipine dönüştürün\n",
    "X = np.array(X, dtype=np.float32)\n",
    "\n",
    "# X'in ilk birkaç elemanını kontrol edin\n",
    "print(X[:5])\n"
   ],
   "id": "c8673861aace79a7",
   "outputs": [
    {
     "name": "stdout",
     "output_type": "stream",
     "text": [
      "<class 'numpy.ndarray'>\n",
      "float32\n",
      "[[0.59466225 0.         0.         0.74158823 0.         0.\n",
      "  0.         0.         0.3105217 ]\n",
      " [0.         0.         0.         0.         0.71020865 0.64929926\n",
      "  0.         0.         0.27205542]\n",
      " [0.46266636 0.5754584  0.62961805 0.         0.         0.\n",
      "  0.         0.         0.24159586]\n",
      " [0.46224666 0.         0.6290469  0.         0.         0.\n",
      "  0.5765113  0.         0.24137671]\n",
      " [0.         0.6483666  0.         0.         0.         0.\n",
      "  0.         0.71100295 0.27220505]]\n"
     ]
    }
   ],
   "execution_count": 117
  }
 ],
 "metadata": {
  "kernelspec": {
   "display_name": "Python 3",
   "language": "python",
   "name": "python3"
  },
  "language_info": {
   "codemirror_mode": {
    "name": "ipython",
    "version": 2
   },
   "file_extension": ".py",
   "mimetype": "text/x-python",
   "name": "python",
   "nbconvert_exporter": "python",
   "pygments_lexer": "ipython2",
   "version": "2.7.6"
  }
 },
 "nbformat": 4,
 "nbformat_minor": 5
}
