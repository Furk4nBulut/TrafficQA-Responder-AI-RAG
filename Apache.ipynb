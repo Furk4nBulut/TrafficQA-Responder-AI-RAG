{
 "cells": [
  {
   "metadata": {},
   "cell_type": "markdown",
   "source": "# Importing Libraries",
   "id": "eb5ca1d4f3371fc7"
  },
  {
   "cell_type": "code",
   "id": "initial_id",
   "metadata": {
    "collapsed": true,
    "ExecuteTime": {
     "end_time": "2024-08-15T08:28:27.970153Z",
     "start_time": "2024-08-15T08:28:27.557731Z"
    }
   },
   "source": "import pandas as pd",
   "outputs": [],
   "execution_count": 1
  },
  {
   "metadata": {},
   "cell_type": "markdown",
   "source": "# Importing Data",
   "id": "d9159adf20ea108f"
  },
  {
   "metadata": {
    "ExecuteTime": {
     "end_time": "2024-08-15T08:28:31.023715Z",
     "start_time": "2024-08-15T08:28:29.412393Z"
    }
   },
   "cell_type": "code",
   "source": [
    "data = pd.read_csv('data/apache/data.csv')\n",
    "data.head()"
   ],
   "id": "a152113ded44cee3",
   "outputs": [
    {
     "data": {
      "text/plain": [
       "        IP Address                          Date Request  \\\n",
       "0     56.81.94.161  [24/Nov/2019:03:03:30 +0300]     GET   \n",
       "1  117.144.149.150  [09/Mar/2018:03:07:53 +0300]    POST   \n",
       "2   107.193.107.50  [14/Jun/2019:01:16:10 +0300]  DELETE   \n",
       "3    149.25.240.57  [02/Jan/2019:03:14:05 +0300]     PUT   \n",
       "4    38.186.148.29  [29/Apr/2019:12:24:51 +0300]  DELETE   \n",
       "\n",
       "               Endpoint  Status Code  Response Size  \\\n",
       "0            /usr/admin          502           5014   \n",
       "1            /usr/login          500           5012   \n",
       "2  /usr/admin/developer          200           5002   \n",
       "3  /usr/admin/developer          200           4905   \n",
       "4         /usr/register          502           4953   \n",
       "\n",
       "                                            Referrer  \\\n",
       "0  https://www.hill.com/main/posts/categoriescate...   \n",
       "1                                                  -   \n",
       "2  https://www.hill.com/main/posts/categoriescate...   \n",
       "3  https://www.hill.com/main/posts/categoriescate...   \n",
       "4  https://www.hill.com/main/posts/categoriescate...   \n",
       "\n",
       "                                          User Agent  Time Taken  \n",
       "0  Mozilla/5.0 (Windows NT 10.0; Win64; x64) Appl...         507  \n",
       "1  Mozilla/5.0 (Linux; Android 10; ONEPLUS A6000)...         151  \n",
       "2  Mozilla/5.0 (Linux; Android 10; ONEPLUS A6000)...        2085  \n",
       "3  Mozilla/5.0 (Windows NT 10.0; Win64; x64) Appl...        4896  \n",
       "4  Mozilla/5.0 (Linux; Android 10; ONEPLUS A6000)...        3236  "
      ],
      "text/html": [
       "<div>\n",
       "<style scoped>\n",
       "    .dataframe tbody tr th:only-of-type {\n",
       "        vertical-align: middle;\n",
       "    }\n",
       "\n",
       "    .dataframe tbody tr th {\n",
       "        vertical-align: top;\n",
       "    }\n",
       "\n",
       "    .dataframe thead th {\n",
       "        text-align: right;\n",
       "    }\n",
       "</style>\n",
       "<table border=\"1\" class=\"dataframe\">\n",
       "  <thead>\n",
       "    <tr style=\"text-align: right;\">\n",
       "      <th></th>\n",
       "      <th>IP Address</th>\n",
       "      <th>Date</th>\n",
       "      <th>Request</th>\n",
       "      <th>Endpoint</th>\n",
       "      <th>Status Code</th>\n",
       "      <th>Response Size</th>\n",
       "      <th>Referrer</th>\n",
       "      <th>User Agent</th>\n",
       "      <th>Time Taken</th>\n",
       "    </tr>\n",
       "  </thead>\n",
       "  <tbody>\n",
       "    <tr>\n",
       "      <th>0</th>\n",
       "      <td>56.81.94.161</td>\n",
       "      <td>[24/Nov/2019:03:03:30 +0300]</td>\n",
       "      <td>GET</td>\n",
       "      <td>/usr/admin</td>\n",
       "      <td>502</td>\n",
       "      <td>5014</td>\n",
       "      <td>https://www.hill.com/main/posts/categoriescate...</td>\n",
       "      <td>Mozilla/5.0 (Windows NT 10.0; Win64; x64) Appl...</td>\n",
       "      <td>507</td>\n",
       "    </tr>\n",
       "    <tr>\n",
       "      <th>1</th>\n",
       "      <td>117.144.149.150</td>\n",
       "      <td>[09/Mar/2018:03:07:53 +0300]</td>\n",
       "      <td>POST</td>\n",
       "      <td>/usr/login</td>\n",
       "      <td>500</td>\n",
       "      <td>5012</td>\n",
       "      <td>-</td>\n",
       "      <td>Mozilla/5.0 (Linux; Android 10; ONEPLUS A6000)...</td>\n",
       "      <td>151</td>\n",
       "    </tr>\n",
       "    <tr>\n",
       "      <th>2</th>\n",
       "      <td>107.193.107.50</td>\n",
       "      <td>[14/Jun/2019:01:16:10 +0300]</td>\n",
       "      <td>DELETE</td>\n",
       "      <td>/usr/admin/developer</td>\n",
       "      <td>200</td>\n",
       "      <td>5002</td>\n",
       "      <td>https://www.hill.com/main/posts/categoriescate...</td>\n",
       "      <td>Mozilla/5.0 (Linux; Android 10; ONEPLUS A6000)...</td>\n",
       "      <td>2085</td>\n",
       "    </tr>\n",
       "    <tr>\n",
       "      <th>3</th>\n",
       "      <td>149.25.240.57</td>\n",
       "      <td>[02/Jan/2019:03:14:05 +0300]</td>\n",
       "      <td>PUT</td>\n",
       "      <td>/usr/admin/developer</td>\n",
       "      <td>200</td>\n",
       "      <td>4905</td>\n",
       "      <td>https://www.hill.com/main/posts/categoriescate...</td>\n",
       "      <td>Mozilla/5.0 (Windows NT 10.0; Win64; x64) Appl...</td>\n",
       "      <td>4896</td>\n",
       "    </tr>\n",
       "    <tr>\n",
       "      <th>4</th>\n",
       "      <td>38.186.148.29</td>\n",
       "      <td>[29/Apr/2019:12:24:51 +0300]</td>\n",
       "      <td>DELETE</td>\n",
       "      <td>/usr/register</td>\n",
       "      <td>502</td>\n",
       "      <td>4953</td>\n",
       "      <td>https://www.hill.com/main/posts/categoriescate...</td>\n",
       "      <td>Mozilla/5.0 (Linux; Android 10; ONEPLUS A6000)...</td>\n",
       "      <td>3236</td>\n",
       "    </tr>\n",
       "  </tbody>\n",
       "</table>\n",
       "</div>"
      ]
     },
     "execution_count": 2,
     "metadata": {},
     "output_type": "execute_result"
    }
   ],
   "execution_count": 2
  },
  {
   "metadata": {
    "ExecuteTime": {
     "end_time": "2024-08-15T08:28:31.504623Z",
     "start_time": "2024-08-15T08:28:31.441982Z"
    }
   },
   "cell_type": "code",
   "source": "data.describe()",
   "id": "2034f77e087f42c3",
   "outputs": [
    {
     "data": {
      "text/plain": [
       "          Status Code   Response Size      Time Taken\n",
       "count  1000000.000000  1000000.000000  1000000.000000\n",
       "mean       373.747231     4999.478885     2500.162185\n",
       "std        102.920869       49.984650     1443.310076\n",
       "min        200.000000     4763.000000        1.000000\n",
       "25%        303.000000     4966.000000     1249.000000\n",
       "50%        403.000000     4999.000000     2501.000000\n",
       "75%        500.000000     5033.000000     3749.000000\n",
       "max        502.000000     5230.000000     5000.000000"
      ],
      "text/html": [
       "<div>\n",
       "<style scoped>\n",
       "    .dataframe tbody tr th:only-of-type {\n",
       "        vertical-align: middle;\n",
       "    }\n",
       "\n",
       "    .dataframe tbody tr th {\n",
       "        vertical-align: top;\n",
       "    }\n",
       "\n",
       "    .dataframe thead th {\n",
       "        text-align: right;\n",
       "    }\n",
       "</style>\n",
       "<table border=\"1\" class=\"dataframe\">\n",
       "  <thead>\n",
       "    <tr style=\"text-align: right;\">\n",
       "      <th></th>\n",
       "      <th>Status Code</th>\n",
       "      <th>Response Size</th>\n",
       "      <th>Time Taken</th>\n",
       "    </tr>\n",
       "  </thead>\n",
       "  <tbody>\n",
       "    <tr>\n",
       "      <th>count</th>\n",
       "      <td>1000000.000000</td>\n",
       "      <td>1000000.000000</td>\n",
       "      <td>1000000.000000</td>\n",
       "    </tr>\n",
       "    <tr>\n",
       "      <th>mean</th>\n",
       "      <td>373.747231</td>\n",
       "      <td>4999.478885</td>\n",
       "      <td>2500.162185</td>\n",
       "    </tr>\n",
       "    <tr>\n",
       "      <th>std</th>\n",
       "      <td>102.920869</td>\n",
       "      <td>49.984650</td>\n",
       "      <td>1443.310076</td>\n",
       "    </tr>\n",
       "    <tr>\n",
       "      <th>min</th>\n",
       "      <td>200.000000</td>\n",
       "      <td>4763.000000</td>\n",
       "      <td>1.000000</td>\n",
       "    </tr>\n",
       "    <tr>\n",
       "      <th>25%</th>\n",
       "      <td>303.000000</td>\n",
       "      <td>4966.000000</td>\n",
       "      <td>1249.000000</td>\n",
       "    </tr>\n",
       "    <tr>\n",
       "      <th>50%</th>\n",
       "      <td>403.000000</td>\n",
       "      <td>4999.000000</td>\n",
       "      <td>2501.000000</td>\n",
       "    </tr>\n",
       "    <tr>\n",
       "      <th>75%</th>\n",
       "      <td>500.000000</td>\n",
       "      <td>5033.000000</td>\n",
       "      <td>3749.000000</td>\n",
       "    </tr>\n",
       "    <tr>\n",
       "      <th>max</th>\n",
       "      <td>502.000000</td>\n",
       "      <td>5230.000000</td>\n",
       "      <td>5000.000000</td>\n",
       "    </tr>\n",
       "  </tbody>\n",
       "</table>\n",
       "</div>"
      ]
     },
     "execution_count": 3,
     "metadata": {},
     "output_type": "execute_result"
    }
   ],
   "execution_count": 3
  },
  {
   "metadata": {
    "ExecuteTime": {
     "end_time": "2024-08-15T08:28:32.296267Z",
     "start_time": "2024-08-15T08:28:32.175989Z"
    }
   },
   "cell_type": "code",
   "source": "data.info()",
   "id": "65234ec500f16e6e",
   "outputs": [
    {
     "name": "stdout",
     "output_type": "stream",
     "text": [
      "<class 'pandas.core.frame.DataFrame'>\n",
      "RangeIndex: 1000000 entries, 0 to 999999\n",
      "Data columns (total 9 columns):\n",
      " #   Column         Non-Null Count    Dtype \n",
      "---  ------         --------------    ----- \n",
      " 0   IP Address     1000000 non-null  object\n",
      " 1   Date           1000000 non-null  object\n",
      " 2   Request        1000000 non-null  object\n",
      " 3   Endpoint       1000000 non-null  object\n",
      " 4   Status Code    1000000 non-null  int64 \n",
      " 5   Response Size  1000000 non-null  int64 \n",
      " 6   Referrer       1000000 non-null  object\n",
      " 7   User Agent     1000000 non-null  object\n",
      " 8   Time Taken     1000000 non-null  int64 \n",
      "dtypes: int64(3), object(6)\n",
      "memory usage: 68.7+ MB\n"
     ]
    }
   ],
   "execution_count": 4
  },
  {
   "metadata": {},
   "cell_type": "markdown",
   "source": "# Data Preprocessing",
   "id": "565047f5a256cbcc"
  },
  {
   "metadata": {
    "ExecuteTime": {
     "end_time": "2024-08-15T08:28:41.668807Z",
     "start_time": "2024-08-15T08:28:33.481265Z"
    }
   },
   "cell_type": "code",
   "source": [
    "# Date sütununu datetime formatına dönüştürme\n",
    "data['Date'] = pd.to_datetime(data['Date'], format='[%d/%b/%Y:%H:%M:%S %z]')\n",
    "\n",
    "# Dönüşümün başarılı olup olmadığını kontrol etmek için ilk birkaç satıra bakalım\n",
    "data['Date'].head()"
   ],
   "id": "3da12b005cdc465e",
   "outputs": [
    {
     "data": {
      "text/plain": [
       "0   2019-11-24 03:03:30+03:00\n",
       "1   2018-03-09 03:07:53+03:00\n",
       "2   2019-06-14 01:16:10+03:00\n",
       "3   2019-01-02 03:14:05+03:00\n",
       "4   2019-04-29 12:24:51+03:00\n",
       "Name: Date, dtype: datetime64[ns, UTC+03:00]"
      ]
     },
     "execution_count": 5,
     "metadata": {},
     "output_type": "execute_result"
    }
   ],
   "execution_count": 5
  },
  {
   "metadata": {
    "ExecuteTime": {
     "end_time": "2024-08-15T08:28:42.579839Z",
     "start_time": "2024-08-15T08:28:42.479258Z"
    }
   },
   "cell_type": "code",
   "source": [
    "# Eksik verilerin kontrolü\n",
    "missing_values = data.isnull().sum()\n",
    "print(missing_values)\n",
    "\n",
    "# Eksik veri oranlarını da görebilmek için\n",
    "missing_percent = (missing_values / len(data)) * 100\n",
    "print(missing_percent)\n"
   ],
   "id": "949fe5c3f70afaa7",
   "outputs": [
    {
     "name": "stdout",
     "output_type": "stream",
     "text": [
      "IP Address       0\n",
      "Date             0\n",
      "Request          0\n",
      "Endpoint         0\n",
      "Status Code      0\n",
      "Response Size    0\n",
      "Referrer         0\n",
      "User Agent       0\n",
      "Time Taken       0\n",
      "dtype: int64\n",
      "IP Address       0.0\n",
      "Date             0.0\n",
      "Request          0.0\n",
      "Endpoint         0.0\n",
      "Status Code      0.0\n",
      "Response Size    0.0\n",
      "Referrer         0.0\n",
      "User Agent       0.0\n",
      "Time Taken       0.0\n",
      "dtype: float64\n"
     ]
    }
   ],
   "execution_count": 6
  },
  {
   "metadata": {
    "ExecuteTime": {
     "end_time": "2024-08-15T08:28:44.027287Z",
     "start_time": "2024-08-15T08:28:44.001947Z"
    }
   },
   "cell_type": "code",
   "source": [
    "# Gereksiz sütunları kaldırma\n",
    "data = data.drop(columns=['Referrer', 'User Agent'])\n",
    "\n",
    "# Kaldırma işleminden sonra veri setinin ilk birkaç satırına bakalım\n",
    "data.head()\n"
   ],
   "id": "f6357ff2ab6ed49b",
   "outputs": [
    {
     "data": {
      "text/plain": [
       "        IP Address                      Date Request              Endpoint  \\\n",
       "0     56.81.94.161 2019-11-24 03:03:30+03:00     GET            /usr/admin   \n",
       "1  117.144.149.150 2018-03-09 03:07:53+03:00    POST            /usr/login   \n",
       "2   107.193.107.50 2019-06-14 01:16:10+03:00  DELETE  /usr/admin/developer   \n",
       "3    149.25.240.57 2019-01-02 03:14:05+03:00     PUT  /usr/admin/developer   \n",
       "4    38.186.148.29 2019-04-29 12:24:51+03:00  DELETE         /usr/register   \n",
       "\n",
       "   Status Code  Response Size  Time Taken  \n",
       "0          502           5014         507  \n",
       "1          500           5012         151  \n",
       "2          200           5002        2085  \n",
       "3          200           4905        4896  \n",
       "4          502           4953        3236  "
      ],
      "text/html": [
       "<div>\n",
       "<style scoped>\n",
       "    .dataframe tbody tr th:only-of-type {\n",
       "        vertical-align: middle;\n",
       "    }\n",
       "\n",
       "    .dataframe tbody tr th {\n",
       "        vertical-align: top;\n",
       "    }\n",
       "\n",
       "    .dataframe thead th {\n",
       "        text-align: right;\n",
       "    }\n",
       "</style>\n",
       "<table border=\"1\" class=\"dataframe\">\n",
       "  <thead>\n",
       "    <tr style=\"text-align: right;\">\n",
       "      <th></th>\n",
       "      <th>IP Address</th>\n",
       "      <th>Date</th>\n",
       "      <th>Request</th>\n",
       "      <th>Endpoint</th>\n",
       "      <th>Status Code</th>\n",
       "      <th>Response Size</th>\n",
       "      <th>Time Taken</th>\n",
       "    </tr>\n",
       "  </thead>\n",
       "  <tbody>\n",
       "    <tr>\n",
       "      <th>0</th>\n",
       "      <td>56.81.94.161</td>\n",
       "      <td>2019-11-24 03:03:30+03:00</td>\n",
       "      <td>GET</td>\n",
       "      <td>/usr/admin</td>\n",
       "      <td>502</td>\n",
       "      <td>5014</td>\n",
       "      <td>507</td>\n",
       "    </tr>\n",
       "    <tr>\n",
       "      <th>1</th>\n",
       "      <td>117.144.149.150</td>\n",
       "      <td>2018-03-09 03:07:53+03:00</td>\n",
       "      <td>POST</td>\n",
       "      <td>/usr/login</td>\n",
       "      <td>500</td>\n",
       "      <td>5012</td>\n",
       "      <td>151</td>\n",
       "    </tr>\n",
       "    <tr>\n",
       "      <th>2</th>\n",
       "      <td>107.193.107.50</td>\n",
       "      <td>2019-06-14 01:16:10+03:00</td>\n",
       "      <td>DELETE</td>\n",
       "      <td>/usr/admin/developer</td>\n",
       "      <td>200</td>\n",
       "      <td>5002</td>\n",
       "      <td>2085</td>\n",
       "    </tr>\n",
       "    <tr>\n",
       "      <th>3</th>\n",
       "      <td>149.25.240.57</td>\n",
       "      <td>2019-01-02 03:14:05+03:00</td>\n",
       "      <td>PUT</td>\n",
       "      <td>/usr/admin/developer</td>\n",
       "      <td>200</td>\n",
       "      <td>4905</td>\n",
       "      <td>4896</td>\n",
       "    </tr>\n",
       "    <tr>\n",
       "      <th>4</th>\n",
       "      <td>38.186.148.29</td>\n",
       "      <td>2019-04-29 12:24:51+03:00</td>\n",
       "      <td>DELETE</td>\n",
       "      <td>/usr/register</td>\n",
       "      <td>502</td>\n",
       "      <td>4953</td>\n",
       "      <td>3236</td>\n",
       "    </tr>\n",
       "  </tbody>\n",
       "</table>\n",
       "</div>"
      ]
     },
     "execution_count": 7,
     "metadata": {},
     "output_type": "execute_result"
    }
   ],
   "execution_count": 7
  },
  {
   "metadata": {
    "ExecuteTime": {
     "end_time": "2024-08-15T08:28:45.407344Z",
     "start_time": "2024-08-15T08:28:45.219498Z"
    }
   },
   "cell_type": "code",
   "source": [
    "# Yeni özellikler ekleme: Yıl, Ay, Gün, Saat, Dakika, vs.\n",
    "data['Year'] = data['Date'].dt.year\n",
    "data['Month'] = data['Date'].dt.month\n",
    "data['Day'] = data['Date'].dt.day\n",
    "data['Hour'] = data['Date'].dt.hour\n",
    "data['Minute'] = data['Date'].dt.minute\n",
    "\n",
    "# Yeni özellikleri kontrol edelim\n",
    "data.head()"
   ],
   "id": "d663142ea2332d07",
   "outputs": [
    {
     "data": {
      "text/plain": [
       "        IP Address                      Date Request              Endpoint  \\\n",
       "0     56.81.94.161 2019-11-24 03:03:30+03:00     GET            /usr/admin   \n",
       "1  117.144.149.150 2018-03-09 03:07:53+03:00    POST            /usr/login   \n",
       "2   107.193.107.50 2019-06-14 01:16:10+03:00  DELETE  /usr/admin/developer   \n",
       "3    149.25.240.57 2019-01-02 03:14:05+03:00     PUT  /usr/admin/developer   \n",
       "4    38.186.148.29 2019-04-29 12:24:51+03:00  DELETE         /usr/register   \n",
       "\n",
       "   Status Code  Response Size  Time Taken  Year  Month  Day  Hour  Minute  \n",
       "0          502           5014         507  2019     11   24     3       3  \n",
       "1          500           5012         151  2018      3    9     3       7  \n",
       "2          200           5002        2085  2019      6   14     1      16  \n",
       "3          200           4905        4896  2019      1    2     3      14  \n",
       "4          502           4953        3236  2019      4   29    12      24  "
      ],
      "text/html": [
       "<div>\n",
       "<style scoped>\n",
       "    .dataframe tbody tr th:only-of-type {\n",
       "        vertical-align: middle;\n",
       "    }\n",
       "\n",
       "    .dataframe tbody tr th {\n",
       "        vertical-align: top;\n",
       "    }\n",
       "\n",
       "    .dataframe thead th {\n",
       "        text-align: right;\n",
       "    }\n",
       "</style>\n",
       "<table border=\"1\" class=\"dataframe\">\n",
       "  <thead>\n",
       "    <tr style=\"text-align: right;\">\n",
       "      <th></th>\n",
       "      <th>IP Address</th>\n",
       "      <th>Date</th>\n",
       "      <th>Request</th>\n",
       "      <th>Endpoint</th>\n",
       "      <th>Status Code</th>\n",
       "      <th>Response Size</th>\n",
       "      <th>Time Taken</th>\n",
       "      <th>Year</th>\n",
       "      <th>Month</th>\n",
       "      <th>Day</th>\n",
       "      <th>Hour</th>\n",
       "      <th>Minute</th>\n",
       "    </tr>\n",
       "  </thead>\n",
       "  <tbody>\n",
       "    <tr>\n",
       "      <th>0</th>\n",
       "      <td>56.81.94.161</td>\n",
       "      <td>2019-11-24 03:03:30+03:00</td>\n",
       "      <td>GET</td>\n",
       "      <td>/usr/admin</td>\n",
       "      <td>502</td>\n",
       "      <td>5014</td>\n",
       "      <td>507</td>\n",
       "      <td>2019</td>\n",
       "      <td>11</td>\n",
       "      <td>24</td>\n",
       "      <td>3</td>\n",
       "      <td>3</td>\n",
       "    </tr>\n",
       "    <tr>\n",
       "      <th>1</th>\n",
       "      <td>117.144.149.150</td>\n",
       "      <td>2018-03-09 03:07:53+03:00</td>\n",
       "      <td>POST</td>\n",
       "      <td>/usr/login</td>\n",
       "      <td>500</td>\n",
       "      <td>5012</td>\n",
       "      <td>151</td>\n",
       "      <td>2018</td>\n",
       "      <td>3</td>\n",
       "      <td>9</td>\n",
       "      <td>3</td>\n",
       "      <td>7</td>\n",
       "    </tr>\n",
       "    <tr>\n",
       "      <th>2</th>\n",
       "      <td>107.193.107.50</td>\n",
       "      <td>2019-06-14 01:16:10+03:00</td>\n",
       "      <td>DELETE</td>\n",
       "      <td>/usr/admin/developer</td>\n",
       "      <td>200</td>\n",
       "      <td>5002</td>\n",
       "      <td>2085</td>\n",
       "      <td>2019</td>\n",
       "      <td>6</td>\n",
       "      <td>14</td>\n",
       "      <td>1</td>\n",
       "      <td>16</td>\n",
       "    </tr>\n",
       "    <tr>\n",
       "      <th>3</th>\n",
       "      <td>149.25.240.57</td>\n",
       "      <td>2019-01-02 03:14:05+03:00</td>\n",
       "      <td>PUT</td>\n",
       "      <td>/usr/admin/developer</td>\n",
       "      <td>200</td>\n",
       "      <td>4905</td>\n",
       "      <td>4896</td>\n",
       "      <td>2019</td>\n",
       "      <td>1</td>\n",
       "      <td>2</td>\n",
       "      <td>3</td>\n",
       "      <td>14</td>\n",
       "    </tr>\n",
       "    <tr>\n",
       "      <th>4</th>\n",
       "      <td>38.186.148.29</td>\n",
       "      <td>2019-04-29 12:24:51+03:00</td>\n",
       "      <td>DELETE</td>\n",
       "      <td>/usr/register</td>\n",
       "      <td>502</td>\n",
       "      <td>4953</td>\n",
       "      <td>3236</td>\n",
       "      <td>2019</td>\n",
       "      <td>4</td>\n",
       "      <td>29</td>\n",
       "      <td>12</td>\n",
       "      <td>24</td>\n",
       "    </tr>\n",
       "  </tbody>\n",
       "</table>\n",
       "</div>"
      ]
     },
     "execution_count": 8,
     "metadata": {},
     "output_type": "execute_result"
    }
   ],
   "execution_count": 8
  },
  {
   "metadata": {
    "ExecuteTime": {
     "end_time": "2024-08-15T08:28:49.598479Z",
     "start_time": "2024-08-15T08:28:46.381710Z"
    }
   },
   "cell_type": "code",
   "source": [
    "from sklearn.feature_extraction.text import TfidfVectorizer\n",
    "\n",
    "# TF-IDF vektörizeri oluşturma ve veriyi dönüştürme\n",
    "vectorizer = TfidfVectorizer()\n",
    "X = vectorizer.fit_transform(data['Endpoint'] + ' ' + data['Request']).toarray()\n"
   ],
   "id": "75b79defdd74a2cb",
   "outputs": [],
   "execution_count": 9
  },
  {
   "metadata": {
    "ExecuteTime": {
     "end_time": "2024-08-15T08:28:50.506343Z",
     "start_time": "2024-08-15T08:28:50.467309Z"
    }
   },
   "cell_type": "code",
   "source": [
    "import faiss\n",
    "import numpy as np\n",
    "\n",
    "# FAISS indeksi oluşturma\n",
    "index = faiss.IndexFlatL2(X.shape[1])  # Vektör boyutunu belirt\n",
    "index.add(X.astype('float32'))  # Vektörleri indekse ekleme"
   ],
   "id": "5faaa9c5a226da52",
   "outputs": [],
   "execution_count": 10
  },
  {
   "metadata": {
    "ExecuteTime": {
     "end_time": "2024-08-15T08:46:53.985834Z",
     "start_time": "2024-08-15T08:46:53.982576Z"
    }
   },
   "cell_type": "code",
   "outputs": [],
   "execution_count": 26,
   "source": [
    "# Kullanıcı sorgusunu vektörleştirme\n",
    "query = \"GET / HTTP/1.1\"\n",
    "query_vector = vectorizer.transform([query]).toarray().astype('float32')"
   ],
   "id": "ec846420de7266bd"
  },
  {
   "metadata": {
    "ExecuteTime": {
     "end_time": "2024-08-15T08:46:55.043406Z",
     "start_time": "2024-08-15T08:46:55.031051Z"
    }
   },
   "cell_type": "code",
   "outputs": [
    {
     "name": "stdout",
     "output_type": "stream",
     "text": [
      "         IP Address                      Date Request Endpoint  Status Code  \\\n",
      "73   217.206.134.78 2018-02-11 06:07:58+03:00     GET     /usr          500   \n",
      "78   126.246.88.114 2018-09-03 01:30:39+03:00     GET     /usr          403   \n",
      "79     138.210.2.41 2019-11-07 11:37:03+03:00     GET     /usr          403   \n",
      "128  167.168.88.166 2018-01-04 09:16:44+03:00     GET     /usr          304   \n",
      "151  129.189.10.194 2019-06-07 06:58:47+03:00     GET     /usr          403   \n",
      "\n",
      "     Response Size  Time Taken  Year  Month  Day  Hour  Minute  \n",
      "73            5021        3014  2018      2   11     6       7  \n",
      "78            5029        3638  2018      9    3     1      30  \n",
      "79            5084        1343  2019     11    7    11      37  \n",
      "128           4991        3942  2018      1    4     9      16  \n",
      "151           5009        3296  2019      6    7     6      58  \n"
     ]
    }
   ],
   "execution_count": 27,
   "source": [
    "# En yakın komşuları bulma\n",
    "D, I = index.search(query_vector, 5)  # 5 en yakın komşu\n",
    "relevant_logs = data.iloc[I[0]]\n",
    "print(relevant_logs)\n"
   ],
   "id": "7c1ae1af1151c66c"
  },
  {
   "metadata": {
    "ExecuteTime": {
     "end_time": "2024-08-15T08:47:00.291222Z",
     "start_time": "2024-08-15T08:46:55.638544Z"
    }
   },
   "cell_type": "code",
   "outputs": [
    {
     "name": "stdout",
     "output_type": "stream",
     "text": [
      "GET GET GET GET GET GET GET GET GET GET GET GET GET GET GET GET GET GET GET GET GET GET GET GET GET GET GET GET GET GET GET GET GET GET GET GET GET GET GET GET GET GET GET GET GET GET GET GET GET GET GET GET GET GET GET GET GET GET GET GET GET GET GET GET GET GET GET GET GET GET GET GET GET GET GET GET GET GET GET GET GET GET GET GET GET GET GET GET GET GET GET GET GET GET GET GET GET GET GET GET GET GET GET GET GET GET GET GET GET GET GET GET GET GET GET GET GET GET GET GET GET GET GET GET GET GET GET GET GET GET GET GET GET GET GET GET GET GET GET GET GET GET GET GET GET GET GET GET GET GET\n"
     ]
    }
   ],
   "execution_count": 28,
   "source": [
    "import torch\n",
    "from transformers import GPT2LMHeadModel, GPT2Tokenizer\n",
    "\n",
    "# Model ve tokenizer yükleme\n",
    "model_name = \"gpt2\"\n",
    "model = GPT2LMHeadModel.from_pretrained(model_name)\n",
    "tokenizer = GPT2Tokenizer.from_pretrained(model_name)\n",
    "\n",
    "# Log kayıtlarını birleştirerek giriş metni oluşturma\n",
    "input_text = \" \".join(relevant_logs['Request'].tolist())\n",
    "input_ids = tokenizer.encode(input_text, return_tensors='pt')\n",
    "\n",
    "# attention_mask oluşturma\n",
    "attention_mask = torch.ones(input_ids.shape, dtype=torch.long)\n",
    "\n",
    "# Yanıt oluşturma\n",
    "output = model.generate(input_ids, attention_mask=attention_mask, max_length=150, num_return_sequences=1, pad_token_id=tokenizer.eos_token_id)\n",
    "response = tokenizer.decode(output[0], skip_special_tokens=True)\n",
    "print(response)\n"
   ],
   "id": "8a3fd48e6af263e8"
  },
  {
   "metadata": {
    "ExecuteTime": {
     "end_time": "2024-08-15T08:53:38.598749Z",
     "start_time": "2024-08-15T08:53:36.784960Z"
    }
   },
   "cell_type": "code",
   "outputs": [
    {
     "name": "stdout",
     "output_type": "stream",
     "text": [
      "        IP Address                          Date Request  \\\n",
      "0     56.81.94.161  [24/Nov/2019:03:03:30 +0300]     GET   \n",
      "1  117.144.149.150  [09/Mar/2018:03:07:53 +0300]    POST   \n",
      "2   107.193.107.50  [14/Jun/2019:01:16:10 +0300]  DELETE   \n",
      "3    149.25.240.57  [02/Jan/2019:03:14:05 +0300]     PUT   \n",
      "4    38.186.148.29  [29/Apr/2019:12:24:51 +0300]  DELETE   \n",
      "\n",
      "               Endpoint  Status Code  Response Size  \\\n",
      "0            /usr/admin          502           5014   \n",
      "1            /usr/login          500           5012   \n",
      "2  /usr/admin/developer          200           5002   \n",
      "3  /usr/admin/developer          200           4905   \n",
      "4         /usr/register          502           4953   \n",
      "\n",
      "                                            Referrer  \\\n",
      "0  https://www.hill.com/main/posts/categoriescate...   \n",
      "1                                                  -   \n",
      "2  https://www.hill.com/main/posts/categoriescate...   \n",
      "3  https://www.hill.com/main/posts/categoriescate...   \n",
      "4  https://www.hill.com/main/posts/categoriescate...   \n",
      "\n",
      "                                          User Agent  Time Taken  \n",
      "0  Mozilla/5.0 (Windows NT 10.0; Win64; x64) Appl...         507  \n",
      "1  Mozilla/5.0 (Linux; Android 10; ONEPLUS A6000)...         151  \n",
      "2  Mozilla/5.0 (Linux; Android 10; ONEPLUS A6000)...        2085  \n",
      "3  Mozilla/5.0 (Windows NT 10.0; Win64; x64) Appl...        4896  \n",
      "4  Mozilla/5.0 (Linux; Android 10; ONEPLUS A6000)...        3236  \n",
      "<class 'pandas.core.frame.DataFrame'>\n",
      "RangeIndex: 1000000 entries, 0 to 999999\n",
      "Data columns (total 9 columns):\n",
      " #   Column         Non-Null Count    Dtype \n",
      "---  ------         --------------    ----- \n",
      " 0   IP Address     1000000 non-null  object\n",
      " 1   Date           1000000 non-null  object\n",
      " 2   Request        1000000 non-null  object\n",
      " 3   Endpoint       1000000 non-null  object\n",
      " 4   Status Code    1000000 non-null  int64 \n",
      " 5   Response Size  1000000 non-null  int64 \n",
      " 6   Referrer       1000000 non-null  object\n",
      " 7   User Agent     1000000 non-null  object\n",
      " 8   Time Taken     1000000 non-null  int64 \n",
      "dtypes: int64(3), object(6)\n",
      "memory usage: 68.7+ MB\n",
      "None\n",
      "IP Address       0\n",
      "Date             0\n",
      "Request          0\n",
      "Endpoint         0\n",
      "Status Code      0\n",
      "Response Size    0\n",
      "Referrer         0\n",
      "User Agent       0\n",
      "Time Taken       0\n",
      "dtype: int64\n"
     ]
    }
   ],
   "execution_count": 37,
   "source": [
    "import pandas as pd\n",
    "\n",
    "# Veriyi yükleme\n",
    "data = pd.read_csv('data/apache/data.csv')\n",
    "\n",
    "# Veri setinin ilk birkaç satırını kontrol etme\n",
    "print(data.head())\n",
    "\n",
    "# Veri setinin genel bilgilerini kontrol etme\n",
    "print(data.info())\n",
    "\n",
    "# Eksik verilerin kontrolü\n",
    "missing_values = data.isnull().sum()\n",
    "print(missing_values)\n"
   ],
   "id": "60f6b6397566cdc8"
  },
  {
   "metadata": {
    "ExecuteTime": {
     "end_time": "2024-08-15T08:53:43.730469Z",
     "start_time": "2024-08-15T08:53:39.084089Z"
    }
   },
   "cell_type": "code",
   "source": [
    "import torch\n",
    "from transformers import GPT2LMHeadModel, GPT2Tokenizer\n",
    "\n",
    "# Model ve tokenizer yükleme\n",
    "model_name = \"gpt2\"\n",
    "model = GPT2LMHeadModel.from_pretrained(model_name)\n",
    "tokenizer = GPT2Tokenizer.from_pretrained(model_name)\n",
    "\n",
    "# Log kayıtlarını birleştirerek giriş metni oluşturma\n",
    "input_text = \" \".join(relevant_logs['Request'].tolist())\n",
    "input_text = input_text[:1000]  # Giriş metnini 1000 karakterle sınırlayarak daha anlamlı hale getirme\n",
    "input_ids = tokenizer.encode(input_text, return_tensors='pt')\n",
    "\n",
    "# attention_mask oluşturma\n",
    "attention_mask = torch.ones(input_ids.shape, dtype=torch.long)\n",
    "\n",
    "# Yanıt oluşturma\n",
    "output = model.generate(input_ids, attention_mask=attention_mask, max_length=150, num_return_sequences=1, pad_token_id=tokenizer.eos_token_id)\n",
    "response = tokenizer.decode(output[0], skip_special_tokens=True)\n",
    "print(response)\n"
   ],
   "id": "c1d6f472506e6b6c",
   "outputs": [
    {
     "name": "stdout",
     "output_type": "stream",
     "text": [
      "GET GET GET GET GET GET GET GET GET GET GET GET GET GET GET GET GET GET GET GET GET GET GET GET GET GET GET GET GET GET GET GET GET GET GET GET GET GET GET GET GET GET GET GET GET GET GET GET GET GET GET GET GET GET GET GET GET GET GET GET GET GET GET GET GET GET GET GET GET GET GET GET GET GET GET GET GET GET GET GET GET GET GET GET GET GET GET GET GET GET GET GET GET GET GET GET GET GET GET GET GET GET GET GET GET GET GET GET GET GET GET GET GET GET GET GET GET GET GET GET GET GET GET GET GET GET GET GET GET GET GET GET GET GET GET GET GET GET GET GET GET GET GET GET GET GET GET GET GET GET\n"
     ]
    }
   ],
   "execution_count": 38
  },
  {
   "metadata": {
    "ExecuteTime": {
     "end_time": "2024-08-15T08:53:44.580577Z",
     "start_time": "2024-08-15T08:53:44.575908Z"
    }
   },
   "cell_type": "code",
   "source": [
    "# Log kayıtlarını birleştirerek giriş metni oluşturma\n",
    "input_text = \" \".join(relevant_logs.apply(lambda row: f\"{row['Date']} {row['Request']} {row['Endpoint']} {row['Status Code']}\", axis=1).tolist())\n",
    "input_text = input_text[:1000]  # Giriş metnini 1000 karakterle sınırlayarak daha anlamlı hale getirme\n",
    "input_ids = tokenizer.encode(input_text, return_tensors='pt')\n"
   ],
   "id": "2e203317f984a1cb",
   "outputs": [],
   "execution_count": 39
  },
  {
   "metadata": {
    "ExecuteTime": {
     "end_time": "2024-08-15T08:58:31.078156Z",
     "start_time": "2024-08-15T08:58:30.017830Z"
    }
   },
   "cell_type": "code",
   "source": [
    "\n",
    "def answer_question(query):\n",
    "    # Kullanıcı sorgusunu vektörleştirme\n",
    "    query_vector = vectorizer.transform([query]).toarray().astype('float32')\n",
    "\n",
    "    # En yakın komşuları bulma\n",
    "    D, I = index.search(query_vector, 5)\n",
    "    relevant_logs = data.iloc[I[0]]\n",
    "\n",
    "    # Log kayıtlarını birleştirerek giriş metni oluşturma\n",
    "    input_text = \" \".join(relevant_logs.apply(lambda row: f\"{row['Date']} {row['Request']} {row['Endpoint']} {row['Status Code']}\", axis=1).tolist())\n",
    "    input_text = input_text[:1000]  # Giriş metnini 1000 karakterle sınırlayarak daha anlamlı hale getirme\n",
    "    input_ids = tokenizer.encode(input_text, return_tensors='pt')\n",
    "\n",
    "    # attention_mask oluşturma\n",
    "    attention_mask = torch.ones(input_ids.shape, dtype=torch.long)\n",
    "\n",
    "    # Yanıt oluşturma\n",
    "    output = model.generate(input_ids, attention_mask=attention_mask, max_length=150, num_return_sequences=1, pad_token_id=tokenizer.eos_token_id)\n",
    "    response = tokenizer.decode(output[0], skip_special_tokens=True)\n",
    "    return response\n",
    "\n",
    "# Test\n",
    "query = \"[31/Mar/2019:01:15:15 +0300] hangi işlemler yapıldı?\"\n",
    "response = answer_question(query)\n",
    "print(response)\n",
    "\n"
   ],
   "id": "11bd49bb0f5cbc81",
   "outputs": [
    {
     "name": "stdout",
     "output_type": "stream",
     "text": [
      "[14/Jun/2019:01:16:10 +0300] DELETE /usr/admin/developer 200 [14/Jul/2019:07:00:34 +0300] PUT /usr/register 500 [02/Oct/2019:05:04:21 +0300] DELETE /usr/login 304 [21/May/2018:10:35:44 +0300] GET /usr/register 304 [24/Feb/2019:06:43:27 +0300] DELETE /usr/login 502 [21/Jan/2018:10:35:44 +0300] GET /usr/register 502 [21/Jan/2018:10\n"
     ]
    }
   ],
   "execution_count": 42
  }
 ],
 "metadata": {
  "kernelspec": {
   "display_name": "Python 3",
   "language": "python",
   "name": "python3"
  },
  "language_info": {
   "codemirror_mode": {
    "name": "ipython",
    "version": 2
   },
   "file_extension": ".py",
   "mimetype": "text/x-python",
   "name": "python",
   "nbconvert_exporter": "python",
   "pygments_lexer": "ipython2",
   "version": "2.7.6"
  }
 },
 "nbformat": 4,
 "nbformat_minor": 5
}
