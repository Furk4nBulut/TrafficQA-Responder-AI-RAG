{
 "cells": [
  {
   "metadata": {
    "ExecuteTime": {
     "end_time": "2024-08-15T08:39:53.100130Z",
     "start_time": "2024-08-15T08:39:50.885379Z"
    }
   },
   "cell_type": "code",
   "source": [
    "import pandas as pd\n",
    "\n",
    "# Veriyi yükleme\n",
    "data = pd.read_csv('data/apache/data.csv')\n",
    "print(data.head())\n",
    "print(data.describe())\n",
    "print(data.info())\n"
   ],
   "id": "7142109aab1c48e4",
   "outputs": [
    {
     "name": "stdout",
     "output_type": "stream",
     "text": [
      "        IP Address                          Date Request  \\\n",
      "0     56.81.94.161  [24/Nov/2019:03:03:30 +0300]     GET   \n",
      "1  117.144.149.150  [09/Mar/2018:03:07:53 +0300]    POST   \n",
      "2   107.193.107.50  [14/Jun/2019:01:16:10 +0300]  DELETE   \n",
      "3    149.25.240.57  [02/Jan/2019:03:14:05 +0300]     PUT   \n",
      "4    38.186.148.29  [29/Apr/2019:12:24:51 +0300]  DELETE   \n",
      "\n",
      "               Endpoint  Status Code  Response Size  \\\n",
      "0            /usr/admin          502           5014   \n",
      "1            /usr/login          500           5012   \n",
      "2  /usr/admin/developer          200           5002   \n",
      "3  /usr/admin/developer          200           4905   \n",
      "4         /usr/register          502           4953   \n",
      "\n",
      "                                            Referrer  \\\n",
      "0  https://www.hill.com/main/posts/categoriescate...   \n",
      "1                                                  -   \n",
      "2  https://www.hill.com/main/posts/categoriescate...   \n",
      "3  https://www.hill.com/main/posts/categoriescate...   \n",
      "4  https://www.hill.com/main/posts/categoriescate...   \n",
      "\n",
      "                                          User Agent  Time Taken  \n",
      "0  Mozilla/5.0 (Windows NT 10.0; Win64; x64) Appl...         507  \n",
      "1  Mozilla/5.0 (Linux; Android 10; ONEPLUS A6000)...         151  \n",
      "2  Mozilla/5.0 (Linux; Android 10; ONEPLUS A6000)...        2085  \n",
      "3  Mozilla/5.0 (Windows NT 10.0; Win64; x64) Appl...        4896  \n",
      "4  Mozilla/5.0 (Linux; Android 10; ONEPLUS A6000)...        3236  \n",
      "          Status Code   Response Size      Time Taken\n",
      "count  1000000.000000  1000000.000000  1000000.000000\n",
      "mean       373.747231     4999.478885     2500.162185\n",
      "std        102.920869       49.984650     1443.310076\n",
      "min        200.000000     4763.000000        1.000000\n",
      "25%        303.000000     4966.000000     1249.000000\n",
      "50%        403.000000     4999.000000     2501.000000\n",
      "75%        500.000000     5033.000000     3749.000000\n",
      "max        502.000000     5230.000000     5000.000000\n",
      "<class 'pandas.core.frame.DataFrame'>\n",
      "RangeIndex: 1000000 entries, 0 to 999999\n",
      "Data columns (total 9 columns):\n",
      " #   Column         Non-Null Count    Dtype \n",
      "---  ------         --------------    ----- \n",
      " 0   IP Address     1000000 non-null  object\n",
      " 1   Date           1000000 non-null  object\n",
      " 2   Request        1000000 non-null  object\n",
      " 3   Endpoint       1000000 non-null  object\n",
      " 4   Status Code    1000000 non-null  int64 \n",
      " 5   Response Size  1000000 non-null  int64 \n",
      " 6   Referrer       1000000 non-null  object\n",
      " 7   User Agent     1000000 non-null  object\n",
      " 8   Time Taken     1000000 non-null  int64 \n",
      "dtypes: int64(3), object(6)\n",
      "memory usage: 68.7+ MB\n",
      "None\n"
     ]
    }
   ],
   "execution_count": 1
  },
  {
   "metadata": {
    "ExecuteTime": {
     "end_time": "2024-08-15T08:40:03.784837Z",
     "start_time": "2024-08-15T08:39:55.419298Z"
    }
   },
   "cell_type": "code",
   "source": [
    "# Date sütununu datetime formatına dönüştürme\n",
    "data['Date'] = pd.to_datetime(data['Date'], format='[%d/%b/%Y:%H:%M:%S %z]')\n",
    "print(data['Date'].head())\n",
    "\n",
    "# Eksik verilerin kontrolü\n",
    "missing_values = data.isnull().sum()\n",
    "print(missing_values)\n",
    "missing_percent = (missing_values / len(data)) * 100\n",
    "print(missing_percent)\n",
    "\n",
    "# Gereksiz sütunları kaldırma\n",
    "data = data.drop(columns=['Referrer', 'User Agent'])\n",
    "print(data.head())\n"
   ],
   "id": "af8c8508fb7d6dca",
   "outputs": [
    {
     "name": "stdout",
     "output_type": "stream",
     "text": [
      "0   2019-11-24 03:03:30+03:00\n",
      "1   2018-03-09 03:07:53+03:00\n",
      "2   2019-06-14 01:16:10+03:00\n",
      "3   2019-01-02 03:14:05+03:00\n",
      "4   2019-04-29 12:24:51+03:00\n",
      "Name: Date, dtype: datetime64[ns, UTC+03:00]\n",
      "IP Address       0\n",
      "Date             0\n",
      "Request          0\n",
      "Endpoint         0\n",
      "Status Code      0\n",
      "Response Size    0\n",
      "Referrer         0\n",
      "User Agent       0\n",
      "Time Taken       0\n",
      "dtype: int64\n",
      "IP Address       0.0\n",
      "Date             0.0\n",
      "Request          0.0\n",
      "Endpoint         0.0\n",
      "Status Code      0.0\n",
      "Response Size    0.0\n",
      "Referrer         0.0\n",
      "User Agent       0.0\n",
      "Time Taken       0.0\n",
      "dtype: float64\n",
      "        IP Address                      Date Request              Endpoint  \\\n",
      "0     56.81.94.161 2019-11-24 03:03:30+03:00     GET            /usr/admin   \n",
      "1  117.144.149.150 2018-03-09 03:07:53+03:00    POST            /usr/login   \n",
      "2   107.193.107.50 2019-06-14 01:16:10+03:00  DELETE  /usr/admin/developer   \n",
      "3    149.25.240.57 2019-01-02 03:14:05+03:00     PUT  /usr/admin/developer   \n",
      "4    38.186.148.29 2019-04-29 12:24:51+03:00  DELETE         /usr/register   \n",
      "\n",
      "   Status Code  Response Size  Time Taken  \n",
      "0          502           5014         507  \n",
      "1          500           5012         151  \n",
      "2          200           5002        2085  \n",
      "3          200           4905        4896  \n",
      "4          502           4953        3236  \n"
     ]
    }
   ],
   "execution_count": 2
  },
  {
   "metadata": {
    "ExecuteTime": {
     "end_time": "2024-08-15T08:40:08.026295Z",
     "start_time": "2024-08-15T08:40:07.842829Z"
    }
   },
   "cell_type": "code",
   "source": [
    "# Yeni özellikler ekleme: Yıl, Ay, Gün, Saat, Dakika, vs.\n",
    "data['Year'] = data['Date'].dt.year\n",
    "data['Month'] = data['Date'].dt.month\n",
    "data['Day'] = data['Date'].dt.day\n",
    "data['Hour'] = data['Date'].dt.hour\n",
    "data['Minute'] = data['Date'].dt.minute\n",
    "print(data.head())\n"
   ],
   "id": "4a25b065c4c2f9a9",
   "outputs": [
    {
     "name": "stdout",
     "output_type": "stream",
     "text": [
      "        IP Address                      Date Request              Endpoint  \\\n",
      "0     56.81.94.161 2019-11-24 03:03:30+03:00     GET            /usr/admin   \n",
      "1  117.144.149.150 2018-03-09 03:07:53+03:00    POST            /usr/login   \n",
      "2   107.193.107.50 2019-06-14 01:16:10+03:00  DELETE  /usr/admin/developer   \n",
      "3    149.25.240.57 2019-01-02 03:14:05+03:00     PUT  /usr/admin/developer   \n",
      "4    38.186.148.29 2019-04-29 12:24:51+03:00  DELETE         /usr/register   \n",
      "\n",
      "   Status Code  Response Size  Time Taken  Year  Month  Day  Hour  Minute  \n",
      "0          502           5014         507  2019     11   24     3       3  \n",
      "1          500           5012         151  2018      3    9     3       7  \n",
      "2          200           5002        2085  2019      6   14     1      16  \n",
      "3          200           4905        4896  2019      1    2     3      14  \n",
      "4          502           4953        3236  2019      4   29    12      24  \n"
     ]
    }
   ],
   "execution_count": 3
  },
  {
   "metadata": {
    "ExecuteTime": {
     "end_time": "2024-08-15T08:40:12.440120Z",
     "start_time": "2024-08-15T08:40:09.155983Z"
    }
   },
   "cell_type": "code",
   "source": [
    "from sklearn.feature_extraction.text import TfidfVectorizer\n",
    "\n",
    "# TF-IDF vektörizeri oluşturma ve veriyi dönüştürme\n",
    "vectorizer = TfidfVectorizer()\n",
    "X = vectorizer.fit_transform(data['Endpoint'] + ' ' + data['Request']).toarray()\n"
   ],
   "id": "258ff56ac845594",
   "outputs": [],
   "execution_count": 4
  },
  {
   "metadata": {
    "ExecuteTime": {
     "end_time": "2024-08-15T08:40:14.261627Z",
     "start_time": "2024-08-15T08:40:14.224698Z"
    }
   },
   "cell_type": "code",
   "source": [
    "import faiss\n",
    "import numpy as np\n",
    "\n",
    "# FAISS indeksi oluşturma\n",
    "index = faiss.IndexFlatL2(X.shape[1])  # Vektör boyutunu belirt\n",
    "index.add(X.astype('float32'))  # Vektörleri indekse ekleme\n"
   ],
   "id": "8a5e45166b389724",
   "outputs": [],
   "execution_count": 5
  },
  {
   "metadata": {
    "ExecuteTime": {
     "end_time": "2024-08-15T08:40:15.066333Z",
     "start_time": "2024-08-15T08:40:15.050126Z"
    }
   },
   "cell_type": "code",
   "source": [
    "# Kullanıcı sorgusunu vektörleştirme\n",
    "query = \"24 Kasım 2019 tarihinde hangi sayfalara erişildi?\"\n",
    "query_vector = vectorizer.transform([query]).toarray().astype('float32')\n",
    "\n",
    "# En yakın komşuları bulma\n",
    "D, I = index.search(query_vector, 5)  # 5 en yakın komşu\n",
    "relevant_logs = data.iloc[I[0]]\n",
    "print(relevant_logs)\n"
   ],
   "id": "44f132fe3d52323e",
   "outputs": [
    {
     "name": "stdout",
     "output_type": "stream",
     "text": [
      "        IP Address                      Date Request              Endpoint  \\\n",
      "2   107.193.107.50 2019-06-14 01:16:10+03:00  DELETE  /usr/admin/developer   \n",
      "7       6.43.6.180 2019-07-14 07:00:34+03:00     PUT         /usr/register   \n",
      "9    114.35.185.85 2019-10-02 05:04:21+03:00  DELETE            /usr/login   \n",
      "12    2.131.48.139 2018-05-21 10:35:44+03:00     GET         /usr/register   \n",
      "14   6.197.102.230 2019-02-24 06:43:27+03:00  DELETE            /usr/login   \n",
      "\n",
      "    Status Code  Response Size  Time Taken  Year  Month  Day  Hour  Minute  \n",
      "2           200           5002        2085  2019      6   14     1      16  \n",
      "7           500           4904        3554  2019      7   14     7       0  \n",
      "9           304           4954        1611  2019     10    2     5       4  \n",
      "12          304           4988        1159  2018      5   21    10      35  \n",
      "14          502           4973        4449  2019      2   24     6      43  \n"
     ]
    }
   ],
   "execution_count": 6
  },
  {
   "metadata": {
    "ExecuteTime": {
     "end_time": "2024-08-15T08:44:25.367981Z",
     "start_time": "2024-08-15T08:44:20.666144Z"
    }
   },
   "cell_type": "code",
   "source": [
    "import torch\n",
    "from transformers import GPT2LMHeadModel, GPT2Tokenizer\n",
    "\n",
    "# Model ve tokenizer yükleme\n",
    "model_name = \"gpt2\"\n",
    "model = GPT2LMHeadModel.from_pretrained(model_name)\n",
    "tokenizer = GPT2Tokenizer.from_pretrained(model_name)\n",
    "\n",
    "# Log kayıtlarını birleştirerek giriş metni oluşturma\n",
    "input_text = \" \".join(relevant_logs['Request'].tolist())\n",
    "input_ids = tokenizer.encode(input_text, return_tensors='pt')\n",
    "\n",
    "# attention_mask oluşturma\n",
    "attention_mask = torch.ones(input_ids.shape, dtype=torch.long)\n",
    "\n",
    "# Yanıt oluşturma\n",
    "output = model.generate(input_ids, attention_mask=attention_mask, max_length=150, num_return_sequences=1, pad_token_id=tokenizer.eos_token_id)\n",
    "response = tokenizer.decode(output[0], skip_special_tokens=True)\n",
    "print(response)\n"
   ],
   "id": "260f58b0ad21eb3c",
   "outputs": [
    {
     "name": "stdout",
     "output_type": "stream",
     "text": [
      "DELETE PUT DELETE GET DELETE PUT DELETE PUT DELETE PUT DELETE PUT DELETE PUT DELETE PUT DELETE PUT DELETE PUT DELETE PUT DELETE PUT DELETE PUT DELETE PUT DELETE PUT DELETE PUT DELETE PUT DELETE PUT DELETE PUT DELETE PUT DELETE PUT DELETE PUT DELETE PUT DELETE PUT DELETE PUT DELETE PUT DELETE PUT DELETE PUT DELETE PUT DELETE PUT DE\n"
     ]
    }
   ],
   "execution_count": 11
  },
  {
   "metadata": {},
   "cell_type": "code",
   "outputs": [],
   "execution_count": null,
   "source": "",
   "id": "98c22f35246513b6"
  }
 ],
 "metadata": {
  "kernelspec": {
   "display_name": "Python 3",
   "language": "python",
   "name": "python3"
  },
  "language_info": {
   "codemirror_mode": {
    "name": "ipython",
    "version": 2
   },
   "file_extension": ".py",
   "mimetype": "text/x-python",
   "name": "python",
   "nbconvert_exporter": "python",
   "pygments_lexer": "ipython2",
   "version": "2.7.6"
  }
 },
 "nbformat": 4,
 "nbformat_minor": 5
}
